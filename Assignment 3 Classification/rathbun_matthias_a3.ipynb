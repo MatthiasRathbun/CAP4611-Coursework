{
 "cells": [
  {
   "cell_type": "markdown",
   "metadata": {
    "id": "HEEz0C_c07yO"
   },
   "source": [
    "# This jupyter notebook is prepared by Matthias Rathbun."
   ]
  },
  {
   "cell_type": "markdown",
   "metadata": {
    "id": "GNz02zSb0sBR"
   },
   "source": [
    "# 1. Load Data and perform basic EDA \n",
    "<hr>\n",
    "<ol type=\"I\">\n",
    "  <li>import libraries: pandas, numpy, matplotlib (set %matplotlib inline), matplotlib’s pyplot, seaborn, missingno, scipy’s stats, sklearn (1 pt) </li>\n",
    "  <li>import the data to a dataframe and show the count of rows and columns (1 pt)</li>\n",
    "  <li>Show the top 5 and last 5 rows (1 pt)</li>\n",
    "  <li>Show how many columns have null values</li>\n",
    "  <li>Plot the count of target and discuss its imbalances and probably issues and solutions</li>\n",
    "</ol>"
   ]
  },
  {
   "cell_type": "code",
   "execution_count": 1,
   "metadata": {},
   "outputs": [],
   "source": [
    "import pandas as pd\n",
    "import numpy as np\n",
    "import matplotlib.pyplot as plt\n",
    "import seaborn as sns\n",
    "import missingno as msno\n",
    "from scipy import stats\n",
    "import sklearn\n",
    "%matplotlib inline"
   ]
  },
  {
   "cell_type": "code",
   "execution_count": 2,
   "metadata": {},
   "outputs": [
    {
     "data": {
      "text/plain": [
       "(8955, 14)"
      ]
     },
     "execution_count": 2,
     "metadata": {},
     "output_type": "execute_result"
    }
   ],
   "source": [
    "df = pd.read_csv(\"hrdata2.csv\", index_col = False)\n",
    "df = df.iloc[: , 1:]\n",
    "df.shape"
   ]
  },
  {
   "cell_type": "code",
   "execution_count": 3,
   "metadata": {},
   "outputs": [
    {
     "data": {
      "text/html": [
       "<div>\n",
       "<style scoped>\n",
       "    .dataframe tbody tr th:only-of-type {\n",
       "        vertical-align: middle;\n",
       "    }\n",
       "\n",
       "    .dataframe tbody tr th {\n",
       "        vertical-align: top;\n",
       "    }\n",
       "\n",
       "    .dataframe thead th {\n",
       "        text-align: right;\n",
       "    }\n",
       "</style>\n",
       "<table border=\"1\" class=\"dataframe\">\n",
       "  <thead>\n",
       "    <tr style=\"text-align: right;\">\n",
       "      <th></th>\n",
       "      <th>enrollee_id</th>\n",
       "      <th>city</th>\n",
       "      <th>city_development_index</th>\n",
       "      <th>gender</th>\n",
       "      <th>relevent_experience</th>\n",
       "      <th>enrolled_university</th>\n",
       "      <th>education_level</th>\n",
       "      <th>major_discipline</th>\n",
       "      <th>experience</th>\n",
       "      <th>company_size</th>\n",
       "      <th>company_type</th>\n",
       "      <th>last_new_job</th>\n",
       "      <th>training_hours</th>\n",
       "      <th>target</th>\n",
       "    </tr>\n",
       "  </thead>\n",
       "  <tbody>\n",
       "    <tr>\n",
       "      <th>0</th>\n",
       "      <td>29725</td>\n",
       "      <td>city_40</td>\n",
       "      <td>0.776</td>\n",
       "      <td>Male</td>\n",
       "      <td>No relevent experience</td>\n",
       "      <td>no_enrollment</td>\n",
       "      <td>Graduate</td>\n",
       "      <td>STEM</td>\n",
       "      <td>15.0</td>\n",
       "      <td>50-99</td>\n",
       "      <td>Pvt Ltd</td>\n",
       "      <td>&gt;4</td>\n",
       "      <td>47</td>\n",
       "      <td>0.0</td>\n",
       "    </tr>\n",
       "    <tr>\n",
       "      <th>1</th>\n",
       "      <td>666</td>\n",
       "      <td>city_162</td>\n",
       "      <td>0.767</td>\n",
       "      <td>Male</td>\n",
       "      <td>Has relevent experience</td>\n",
       "      <td>no_enrollment</td>\n",
       "      <td>Masters</td>\n",
       "      <td>STEM</td>\n",
       "      <td>21.0</td>\n",
       "      <td>50-99</td>\n",
       "      <td>Funded Startup</td>\n",
       "      <td>4</td>\n",
       "      <td>8</td>\n",
       "      <td>0.0</td>\n",
       "    </tr>\n",
       "    <tr>\n",
       "      <th>2</th>\n",
       "      <td>402</td>\n",
       "      <td>city_46</td>\n",
       "      <td>0.762</td>\n",
       "      <td>Male</td>\n",
       "      <td>Has relevent experience</td>\n",
       "      <td>no_enrollment</td>\n",
       "      <td>Graduate</td>\n",
       "      <td>STEM</td>\n",
       "      <td>13.0</td>\n",
       "      <td>&lt;10</td>\n",
       "      <td>Pvt Ltd</td>\n",
       "      <td>&gt;4</td>\n",
       "      <td>18</td>\n",
       "      <td>1.0</td>\n",
       "    </tr>\n",
       "    <tr>\n",
       "      <th>3</th>\n",
       "      <td>27107</td>\n",
       "      <td>city_103</td>\n",
       "      <td>0.920</td>\n",
       "      <td>Male</td>\n",
       "      <td>Has relevent experience</td>\n",
       "      <td>no_enrollment</td>\n",
       "      <td>Graduate</td>\n",
       "      <td>STEM</td>\n",
       "      <td>7.0</td>\n",
       "      <td>50-99</td>\n",
       "      <td>Pvt Ltd</td>\n",
       "      <td>1</td>\n",
       "      <td>46</td>\n",
       "      <td>1.0</td>\n",
       "    </tr>\n",
       "    <tr>\n",
       "      <th>4</th>\n",
       "      <td>23853</td>\n",
       "      <td>city_103</td>\n",
       "      <td>0.920</td>\n",
       "      <td>Male</td>\n",
       "      <td>Has relevent experience</td>\n",
       "      <td>no_enrollment</td>\n",
       "      <td>Graduate</td>\n",
       "      <td>STEM</td>\n",
       "      <td>5.0</td>\n",
       "      <td>5000-9999</td>\n",
       "      <td>Pvt Ltd</td>\n",
       "      <td>1</td>\n",
       "      <td>108</td>\n",
       "      <td>0.0</td>\n",
       "    </tr>\n",
       "  </tbody>\n",
       "</table>\n",
       "</div>"
      ],
      "text/plain": [
       "   enrollee_id      city  city_development_index gender  \\\n",
       "0        29725   city_40                   0.776   Male   \n",
       "1          666  city_162                   0.767   Male   \n",
       "2          402   city_46                   0.762   Male   \n",
       "3        27107  city_103                   0.920   Male   \n",
       "4        23853  city_103                   0.920   Male   \n",
       "\n",
       "       relevent_experience enrolled_university education_level  \\\n",
       "0   No relevent experience       no_enrollment        Graduate   \n",
       "1  Has relevent experience       no_enrollment         Masters   \n",
       "2  Has relevent experience       no_enrollment        Graduate   \n",
       "3  Has relevent experience       no_enrollment        Graduate   \n",
       "4  Has relevent experience       no_enrollment        Graduate   \n",
       "\n",
       "  major_discipline  experience company_size    company_type last_new_job  \\\n",
       "0             STEM        15.0        50-99         Pvt Ltd           >4   \n",
       "1             STEM        21.0        50-99  Funded Startup            4   \n",
       "2             STEM        13.0          <10         Pvt Ltd           >4   \n",
       "3             STEM         7.0        50-99         Pvt Ltd            1   \n",
       "4             STEM         5.0    5000-9999         Pvt Ltd            1   \n",
       "\n",
       "   training_hours  target  \n",
       "0              47     0.0  \n",
       "1               8     0.0  \n",
       "2              18     1.0  \n",
       "3              46     1.0  \n",
       "4             108     0.0  "
      ]
     },
     "execution_count": 3,
     "metadata": {},
     "output_type": "execute_result"
    }
   ],
   "source": [
    "df.head()"
   ]
  },
  {
   "cell_type": "code",
   "execution_count": 4,
   "metadata": {},
   "outputs": [
    {
     "data": {
      "text/html": [
       "<div>\n",
       "<style scoped>\n",
       "    .dataframe tbody tr th:only-of-type {\n",
       "        vertical-align: middle;\n",
       "    }\n",
       "\n",
       "    .dataframe tbody tr th {\n",
       "        vertical-align: top;\n",
       "    }\n",
       "\n",
       "    .dataframe thead th {\n",
       "        text-align: right;\n",
       "    }\n",
       "</style>\n",
       "<table border=\"1\" class=\"dataframe\">\n",
       "  <thead>\n",
       "    <tr style=\"text-align: right;\">\n",
       "      <th></th>\n",
       "      <th>enrollee_id</th>\n",
       "      <th>city</th>\n",
       "      <th>city_development_index</th>\n",
       "      <th>gender</th>\n",
       "      <th>relevent_experience</th>\n",
       "      <th>enrolled_university</th>\n",
       "      <th>education_level</th>\n",
       "      <th>major_discipline</th>\n",
       "      <th>experience</th>\n",
       "      <th>company_size</th>\n",
       "      <th>company_type</th>\n",
       "      <th>last_new_job</th>\n",
       "      <th>training_hours</th>\n",
       "      <th>target</th>\n",
       "    </tr>\n",
       "  </thead>\n",
       "  <tbody>\n",
       "    <tr>\n",
       "      <th>8950</th>\n",
       "      <td>21319</td>\n",
       "      <td>city_21</td>\n",
       "      <td>0.624</td>\n",
       "      <td>Male</td>\n",
       "      <td>No relevent experience</td>\n",
       "      <td>Full time course</td>\n",
       "      <td>Graduate</td>\n",
       "      <td>STEM</td>\n",
       "      <td>1.0</td>\n",
       "      <td>100-500</td>\n",
       "      <td>Pvt Ltd</td>\n",
       "      <td>1</td>\n",
       "      <td>52</td>\n",
       "      <td>1.0</td>\n",
       "    </tr>\n",
       "    <tr>\n",
       "      <th>8951</th>\n",
       "      <td>251</td>\n",
       "      <td>city_103</td>\n",
       "      <td>0.920</td>\n",
       "      <td>Male</td>\n",
       "      <td>Has relevent experience</td>\n",
       "      <td>no_enrollment</td>\n",
       "      <td>Masters</td>\n",
       "      <td>STEM</td>\n",
       "      <td>9.0</td>\n",
       "      <td>50-99</td>\n",
       "      <td>Pvt Ltd</td>\n",
       "      <td>1</td>\n",
       "      <td>36</td>\n",
       "      <td>1.0</td>\n",
       "    </tr>\n",
       "    <tr>\n",
       "      <th>8952</th>\n",
       "      <td>32313</td>\n",
       "      <td>city_160</td>\n",
       "      <td>0.920</td>\n",
       "      <td>Female</td>\n",
       "      <td>Has relevent experience</td>\n",
       "      <td>no_enrollment</td>\n",
       "      <td>Graduate</td>\n",
       "      <td>STEM</td>\n",
       "      <td>10.0</td>\n",
       "      <td>100-500</td>\n",
       "      <td>Public Sector</td>\n",
       "      <td>3</td>\n",
       "      <td>23</td>\n",
       "      <td>0.0</td>\n",
       "    </tr>\n",
       "    <tr>\n",
       "      <th>8953</th>\n",
       "      <td>29754</td>\n",
       "      <td>city_103</td>\n",
       "      <td>0.920</td>\n",
       "      <td>Female</td>\n",
       "      <td>Has relevent experience</td>\n",
       "      <td>no_enrollment</td>\n",
       "      <td>Graduate</td>\n",
       "      <td>Humanities</td>\n",
       "      <td>7.0</td>\n",
       "      <td>10/49</td>\n",
       "      <td>Funded Startup</td>\n",
       "      <td>1</td>\n",
       "      <td>25</td>\n",
       "      <td>0.0</td>\n",
       "    </tr>\n",
       "    <tr>\n",
       "      <th>8954</th>\n",
       "      <td>24576</td>\n",
       "      <td>city_103</td>\n",
       "      <td>0.920</td>\n",
       "      <td>Male</td>\n",
       "      <td>Has relevent experience</td>\n",
       "      <td>no_enrollment</td>\n",
       "      <td>Graduate</td>\n",
       "      <td>STEM</td>\n",
       "      <td>21.0</td>\n",
       "      <td>50-99</td>\n",
       "      <td>Pvt Ltd</td>\n",
       "      <td>4</td>\n",
       "      <td>44</td>\n",
       "      <td>0.0</td>\n",
       "    </tr>\n",
       "  </tbody>\n",
       "</table>\n",
       "</div>"
      ],
      "text/plain": [
       "      enrollee_id      city  city_development_index  gender  \\\n",
       "8950        21319   city_21                   0.624    Male   \n",
       "8951          251  city_103                   0.920    Male   \n",
       "8952        32313  city_160                   0.920  Female   \n",
       "8953        29754  city_103                   0.920  Female   \n",
       "8954        24576  city_103                   0.920    Male   \n",
       "\n",
       "          relevent_experience enrolled_university education_level  \\\n",
       "8950   No relevent experience    Full time course        Graduate   \n",
       "8951  Has relevent experience       no_enrollment         Masters   \n",
       "8952  Has relevent experience       no_enrollment        Graduate   \n",
       "8953  Has relevent experience       no_enrollment        Graduate   \n",
       "8954  Has relevent experience       no_enrollment        Graduate   \n",
       "\n",
       "     major_discipline  experience company_size    company_type last_new_job  \\\n",
       "8950             STEM         1.0      100-500         Pvt Ltd            1   \n",
       "8951             STEM         9.0        50-99         Pvt Ltd            1   \n",
       "8952             STEM        10.0      100-500   Public Sector            3   \n",
       "8953       Humanities         7.0        10/49  Funded Startup            1   \n",
       "8954             STEM        21.0        50-99         Pvt Ltd            4   \n",
       "\n",
       "      training_hours  target  \n",
       "8950              52     1.0  \n",
       "8951              36     1.0  \n",
       "8952              23     0.0  \n",
       "8953              25     0.0  \n",
       "8954              44     0.0  "
      ]
     },
     "execution_count": 4,
     "metadata": {},
     "output_type": "execute_result"
    }
   ],
   "source": [
    "df.tail()"
   ]
  },
  {
   "cell_type": "code",
   "execution_count": 5,
   "metadata": {},
   "outputs": [
    {
     "data": {
      "text/plain": [
       "enrollee_id               0\n",
       "city                      0\n",
       "city_development_index    0\n",
       "gender                    0\n",
       "relevent_experience       0\n",
       "enrolled_university       0\n",
       "education_level           0\n",
       "major_discipline          0\n",
       "experience                0\n",
       "company_size              0\n",
       "company_type              0\n",
       "last_new_job              0\n",
       "training_hours            0\n",
       "target                    0\n",
       "dtype: int64"
      ]
     },
     "execution_count": 5,
     "metadata": {},
     "output_type": "execute_result"
    }
   ],
   "source": [
    "df.isna().sum().sort_values(ascending = False)"
   ]
  },
  {
   "cell_type": "code",
   "execution_count": 6,
   "metadata": {},
   "outputs": [
    {
     "data": {
      "image/png": "[encoded data removed]",
      "text/plain": [
       "<Figure size 432x288 with 1 Axes>"
      ]
     },
     "metadata": {
      "needs_background": "light"
     },
     "output_type": "display_data"
    }
   ],
   "source": [
    "ax = sns.countplot(x=\"target\", data=df)"
   ]
  },
  {
   "cell_type": "markdown",
   "metadata": {},
   "source": [
    "There is imbalance in the dataset. This can be fixed using resampling."
   ]
  },
  {
   "cell_type": "markdown",
   "metadata": {
    "id": "F3CgMvSM40Od"
   },
   "source": [
    "# 2. Feature Selection and Pre-processing \n",
    "<hr>\n",
    "<ol type=\"I\">\n",
    "  <li>Preprocessing City:</li>\n",
    "  <ol type=\"I\">\n",
    "  <li>Plot #of records per city so that the highest city counts are shown in descending order</li>\n",
    "  <li>How many rows belong to the top 4 cities in total and how many for the remaining?</li>\n",
    "  <li>Replace the city name with <b><i>city_others</i></b> if the city name is not within the top 4 city names. This <a href=\"https://stackoverflow.com/questions/31128477/how-to-set-values-based-on-a-list-in-pandas-python\">link</a> might help you. (Also, converting the list to a set and then doing a set difference might help you as well)</li>\n",
    "  <li>Show some sample data that the records have changed appropriately</li>\n",
    "  </ol>\n",
    "  <li>Education Level:</li>\n",
    "  <ol type=\"I\">\n",
    "  <li>Show the unique values of education level.</li>\n",
    "  <li>Replace the value of Education level column like ordinal values, \"Graduate\" -> 0, Masters->1, and Phd -> 2 (writing a function with the condition and return values and using apply with the data frame can help you to achieve this.)</li>\n",
    "  <li>Show some sample data that the records have changed appropriately</li>\n",
    "  </ol>\n",
    "  <li>company_size column:</li>\n",
    "  <ol type=\"I\">\n",
    "  <li>Show the unique values of the company_size column</li>\n",
    "  <li>Change the values of the company_size column from 0 to 7 where e0 is < 10 and 7 is 10000z. The order of the numbers should be based on the values of the column-like an ordinary variable. (writing a function with the condition and return values and using apply with the data frame can help you to achieve this.)</li>\n",
    "  <li>Show the updated unique values</li>\n",
    "  </ol>\n",
    "  <li>Last_new_job:</li>\n",
    "  <ol type=\"I\">\n",
    "  <li>Show the unique values of the last_new_job column</li>\n",
    "  <li>Convert the values of this column to never->0, 1->1,....>4 -->5</li>\n",
    "  <li>Show the updated values</li>\n",
    "  </ol>\n",
    "  <li>Other columns:</li>\n",
    "  <ol type=\"I\">\n",
    "  <li>Show the unique values of company_type, major_descipline, enrolled_university, relevant_experience, gender, and updated city column</li>\n",
    "  <li>As one-hot encoding is a bit strict, use panda's get_dummies function to create binary columns for the values of the following columns:</li>\n",
    "  <ol type=\"I\">\n",
    "  <li>company_tye</li>\n",
    "  <li>major_descipline</li>\n",
    "  <li>enrolled_university</li>\n",
    "  <li>relevant_eperience</li>\n",
    "  <li>gender</li>\n",
    "  <li>updated city column</li>\n",
    "  </ol></ol>\n",
    "  <li>Show the top 5 and last 5 rows to show that the table has changed [You must set this first before showing the data frame as many columns will be hidden due to the large number of columns:\n",
    "pd.set_option('display.max_columns', None)\n",
    "Also, show the shape of the table\n",
    "Drop the enrollee_id and any duplicate columns (if you have multiple city column one with actual and one with updated, then remove the actual one)</li>\n",
    "  <li>Feature Scaling:</li>\n",
    "  <ol type=\"I\">\n",
    "  <li>Use sklearn.preprocessing's MinMaxScaler to perform min max scaling to all the columns (see documentation on how to use it)</li>\n",
    "  <li>Show sample records that show some the scaled records</li>\n",
    "  </ol>\n",
    "  <li>Move the target column to the last column of the data frame and show that it has changed</li>\n"
   ]
  },
  {
   "cell_type": "code",
   "execution_count": 7,
   "metadata": {},
   "outputs": [
    {
     "data": {
      "text/plain": [
       "city_103    2426\n",
       "city_21     1111\n",
       "city_16      836\n",
       "city_114     648\n",
       "city_160     401\n",
       "            ... \n",
       "city_127       1\n",
       "city_107       1\n",
       "city_62        1\n",
       "city_109       1\n",
       "city_25        1\n",
       "Name: city, Length: 116, dtype: int64"
      ]
     },
     "execution_count": 7,
     "metadata": {},
     "output_type": "execute_result"
    }
   ],
   "source": [
    "df['city'].value_counts()"
   ]
  },
  {
   "cell_type": "markdown",
   "metadata": {},
   "source": [
    "5021 are in the top 4 and 3934 are in the other cities"
   ]
  },
  {
   "cell_type": "code",
   "execution_count": 8,
   "metadata": {},
   "outputs": [],
   "source": [
    "df.loc[~df[\"city\"].isin([\"city_103\", \"city_21\", \"city_16\", \"city_114\"]), \"city\"] = \"city_others\""
   ]
  },
  {
   "cell_type": "code",
   "execution_count": 9,
   "metadata": {},
   "outputs": [
    {
     "data": {
      "text/html": [
       "<div>\n",
       "<style scoped>\n",
       "    .dataframe tbody tr th:only-of-type {\n",
       "        vertical-align: middle;\n",
       "    }\n",
       "\n",
       "    .dataframe tbody tr th {\n",
       "        vertical-align: top;\n",
       "    }\n",
       "\n",
       "    .dataframe thead th {\n",
       "        text-align: right;\n",
       "    }\n",
       "</style>\n",
       "<table border=\"1\" class=\"dataframe\">\n",
       "  <thead>\n",
       "    <tr style=\"text-align: right;\">\n",
       "      <th></th>\n",
       "      <th>enrollee_id</th>\n",
       "      <th>city</th>\n",
       "      <th>city_development_index</th>\n",
       "      <th>gender</th>\n",
       "      <th>relevent_experience</th>\n",
       "      <th>enrolled_university</th>\n",
       "      <th>education_level</th>\n",
       "      <th>major_discipline</th>\n",
       "      <th>experience</th>\n",
       "      <th>company_size</th>\n",
       "      <th>company_type</th>\n",
       "      <th>last_new_job</th>\n",
       "      <th>training_hours</th>\n",
       "      <th>target</th>\n",
       "    </tr>\n",
       "  </thead>\n",
       "  <tbody>\n",
       "    <tr>\n",
       "      <th>0</th>\n",
       "      <td>29725</td>\n",
       "      <td>city_others</td>\n",
       "      <td>0.776</td>\n",
       "      <td>Male</td>\n",
       "      <td>No relevent experience</td>\n",
       "      <td>no_enrollment</td>\n",
       "      <td>Graduate</td>\n",
       "      <td>STEM</td>\n",
       "      <td>15.0</td>\n",
       "      <td>50-99</td>\n",
       "      <td>Pvt Ltd</td>\n",
       "      <td>&gt;4</td>\n",
       "      <td>47</td>\n",
       "      <td>0.0</td>\n",
       "    </tr>\n",
       "    <tr>\n",
       "      <th>1</th>\n",
       "      <td>666</td>\n",
       "      <td>city_others</td>\n",
       "      <td>0.767</td>\n",
       "      <td>Male</td>\n",
       "      <td>Has relevent experience</td>\n",
       "      <td>no_enrollment</td>\n",
       "      <td>Masters</td>\n",
       "      <td>STEM</td>\n",
       "      <td>21.0</td>\n",
       "      <td>50-99</td>\n",
       "      <td>Funded Startup</td>\n",
       "      <td>4</td>\n",
       "      <td>8</td>\n",
       "      <td>0.0</td>\n",
       "    </tr>\n",
       "    <tr>\n",
       "      <th>2</th>\n",
       "      <td>402</td>\n",
       "      <td>city_others</td>\n",
       "      <td>0.762</td>\n",
       "      <td>Male</td>\n",
       "      <td>Has relevent experience</td>\n",
       "      <td>no_enrollment</td>\n",
       "      <td>Graduate</td>\n",
       "      <td>STEM</td>\n",
       "      <td>13.0</td>\n",
       "      <td>&lt;10</td>\n",
       "      <td>Pvt Ltd</td>\n",
       "      <td>&gt;4</td>\n",
       "      <td>18</td>\n",
       "      <td>1.0</td>\n",
       "    </tr>\n",
       "    <tr>\n",
       "      <th>3</th>\n",
       "      <td>27107</td>\n",
       "      <td>city_103</td>\n",
       "      <td>0.920</td>\n",
       "      <td>Male</td>\n",
       "      <td>Has relevent experience</td>\n",
       "      <td>no_enrollment</td>\n",
       "      <td>Graduate</td>\n",
       "      <td>STEM</td>\n",
       "      <td>7.0</td>\n",
       "      <td>50-99</td>\n",
       "      <td>Pvt Ltd</td>\n",
       "      <td>1</td>\n",
       "      <td>46</td>\n",
       "      <td>1.0</td>\n",
       "    </tr>\n",
       "    <tr>\n",
       "      <th>4</th>\n",
       "      <td>23853</td>\n",
       "      <td>city_103</td>\n",
       "      <td>0.920</td>\n",
       "      <td>Male</td>\n",
       "      <td>Has relevent experience</td>\n",
       "      <td>no_enrollment</td>\n",
       "      <td>Graduate</td>\n",
       "      <td>STEM</td>\n",
       "      <td>5.0</td>\n",
       "      <td>5000-9999</td>\n",
       "      <td>Pvt Ltd</td>\n",
       "      <td>1</td>\n",
       "      <td>108</td>\n",
       "      <td>0.0</td>\n",
       "    </tr>\n",
       "  </tbody>\n",
       "</table>\n",
       "</div>"
      ],
      "text/plain": [
       "   enrollee_id         city  city_development_index gender  \\\n",
       "0        29725  city_others                   0.776   Male   \n",
       "1          666  city_others                   0.767   Male   \n",
       "2          402  city_others                   0.762   Male   \n",
       "3        27107     city_103                   0.920   Male   \n",
       "4        23853     city_103                   0.920   Male   \n",
       "\n",
       "       relevent_experience enrolled_university education_level  \\\n",
       "0   No relevent experience       no_enrollment        Graduate   \n",
       "1  Has relevent experience       no_enrollment         Masters   \n",
       "2  Has relevent experience       no_enrollment        Graduate   \n",
       "3  Has relevent experience       no_enrollment        Graduate   \n",
       "4  Has relevent experience       no_enrollment        Graduate   \n",
       "\n",
       "  major_discipline  experience company_size    company_type last_new_job  \\\n",
       "0             STEM        15.0        50-99         Pvt Ltd           >4   \n",
       "1             STEM        21.0        50-99  Funded Startup            4   \n",
       "2             STEM        13.0          <10         Pvt Ltd           >4   \n",
       "3             STEM         7.0        50-99         Pvt Ltd            1   \n",
       "4             STEM         5.0    5000-9999         Pvt Ltd            1   \n",
       "\n",
       "   training_hours  target  \n",
       "0              47     0.0  \n",
       "1               8     0.0  \n",
       "2              18     1.0  \n",
       "3              46     1.0  \n",
       "4             108     0.0  "
      ]
     },
     "execution_count": 9,
     "metadata": {},
     "output_type": "execute_result"
    }
   ],
   "source": [
    "df.head()"
   ]
  },
  {
   "cell_type": "code",
   "execution_count": 10,
   "metadata": {},
   "outputs": [
    {
     "data": {
      "text/plain": [
       "Graduate    6252\n",
       "Masters     2449\n",
       "Phd          254\n",
       "Name: education_level, dtype: int64"
      ]
     },
     "execution_count": 10,
     "metadata": {},
     "output_type": "execute_result"
    }
   ],
   "source": [
    "df['education_level'].value_counts()"
   ]
  },
  {
   "cell_type": "code",
   "execution_count": 11,
   "metadata": {},
   "outputs": [],
   "source": [
    "df.loc[df[\"education_level\"].isin([\"Graduate\"]), \"education_level\"] = 0\n",
    "df.loc[df[\"education_level\"].isin([\"Masters\"]), \"education_level\"] = 1\n",
    "df.loc[df[\"education_level\"].isin([\"Phd\"]), \"education_level\"] = 2\n",
    "df['education_level'] = df['education_level'].astype(\"int64\")"
   ]
  },
  {
   "cell_type": "code",
   "execution_count": 12,
   "metadata": {},
   "outputs": [
    {
     "data": {
      "text/html": [
       "<div>\n",
       "<style scoped>\n",
       "    .dataframe tbody tr th:only-of-type {\n",
       "        vertical-align: middle;\n",
       "    }\n",
       "\n",
       "    .dataframe tbody tr th {\n",
       "        vertical-align: top;\n",
       "    }\n",
       "\n",
       "    .dataframe thead th {\n",
       "        text-align: right;\n",
       "    }\n",
       "</style>\n",
       "<table border=\"1\" class=\"dataframe\">\n",
       "  <thead>\n",
       "    <tr style=\"text-align: right;\">\n",
       "      <th></th>\n",
       "      <th>enrollee_id</th>\n",
       "      <th>city</th>\n",
       "      <th>city_development_index</th>\n",
       "      <th>gender</th>\n",
       "      <th>relevent_experience</th>\n",
       "      <th>enrolled_university</th>\n",
       "      <th>education_level</th>\n",
       "      <th>major_discipline</th>\n",
       "      <th>experience</th>\n",
       "      <th>company_size</th>\n",
       "      <th>company_type</th>\n",
       "      <th>last_new_job</th>\n",
       "      <th>training_hours</th>\n",
       "      <th>target</th>\n",
       "    </tr>\n",
       "  </thead>\n",
       "  <tbody>\n",
       "    <tr>\n",
       "      <th>0</th>\n",
       "      <td>29725</td>\n",
       "      <td>city_others</td>\n",
       "      <td>0.776</td>\n",
       "      <td>Male</td>\n",
       "      <td>No relevent experience</td>\n",
       "      <td>no_enrollment</td>\n",
       "      <td>0</td>\n",
       "      <td>STEM</td>\n",
       "      <td>15.0</td>\n",
       "      <td>50-99</td>\n",
       "      <td>Pvt Ltd</td>\n",
       "      <td>&gt;4</td>\n",
       "      <td>47</td>\n",
       "      <td>0.0</td>\n",
       "    </tr>\n",
       "    <tr>\n",
       "      <th>1</th>\n",
       "      <td>666</td>\n",
       "      <td>city_others</td>\n",
       "      <td>0.767</td>\n",
       "      <td>Male</td>\n",
       "      <td>Has relevent experience</td>\n",
       "      <td>no_enrollment</td>\n",
       "      <td>1</td>\n",
       "      <td>STEM</td>\n",
       "      <td>21.0</td>\n",
       "      <td>50-99</td>\n",
       "      <td>Funded Startup</td>\n",
       "      <td>4</td>\n",
       "      <td>8</td>\n",
       "      <td>0.0</td>\n",
       "    </tr>\n",
       "    <tr>\n",
       "      <th>2</th>\n",
       "      <td>402</td>\n",
       "      <td>city_others</td>\n",
       "      <td>0.762</td>\n",
       "      <td>Male</td>\n",
       "      <td>Has relevent experience</td>\n",
       "      <td>no_enrollment</td>\n",
       "      <td>0</td>\n",
       "      <td>STEM</td>\n",
       "      <td>13.0</td>\n",
       "      <td>&lt;10</td>\n",
       "      <td>Pvt Ltd</td>\n",
       "      <td>&gt;4</td>\n",
       "      <td>18</td>\n",
       "      <td>1.0</td>\n",
       "    </tr>\n",
       "    <tr>\n",
       "      <th>3</th>\n",
       "      <td>27107</td>\n",
       "      <td>city_103</td>\n",
       "      <td>0.920</td>\n",
       "      <td>Male</td>\n",
       "      <td>Has relevent experience</td>\n",
       "      <td>no_enrollment</td>\n",
       "      <td>0</td>\n",
       "      <td>STEM</td>\n",
       "      <td>7.0</td>\n",
       "      <td>50-99</td>\n",
       "      <td>Pvt Ltd</td>\n",
       "      <td>1</td>\n",
       "      <td>46</td>\n",
       "      <td>1.0</td>\n",
       "    </tr>\n",
       "    <tr>\n",
       "      <th>4</th>\n",
       "      <td>23853</td>\n",
       "      <td>city_103</td>\n",
       "      <td>0.920</td>\n",
       "      <td>Male</td>\n",
       "      <td>Has relevent experience</td>\n",
       "      <td>no_enrollment</td>\n",
       "      <td>0</td>\n",
       "      <td>STEM</td>\n",
       "      <td>5.0</td>\n",
       "      <td>5000-9999</td>\n",
       "      <td>Pvt Ltd</td>\n",
       "      <td>1</td>\n",
       "      <td>108</td>\n",
       "      <td>0.0</td>\n",
       "    </tr>\n",
       "  </tbody>\n",
       "</table>\n",
       "</div>"
      ],
      "text/plain": [
       "   enrollee_id         city  city_development_index gender  \\\n",
       "0        29725  city_others                   0.776   Male   \n",
       "1          666  city_others                   0.767   Male   \n",
       "2          402  city_others                   0.762   Male   \n",
       "3        27107     city_103                   0.920   Male   \n",
       "4        23853     city_103                   0.920   Male   \n",
       "\n",
       "       relevent_experience enrolled_university  education_level  \\\n",
       "0   No relevent experience       no_enrollment                0   \n",
       "1  Has relevent experience       no_enrollment                1   \n",
       "2  Has relevent experience       no_enrollment                0   \n",
       "3  Has relevent experience       no_enrollment                0   \n",
       "4  Has relevent experience       no_enrollment                0   \n",
       "\n",
       "  major_discipline  experience company_size    company_type last_new_job  \\\n",
       "0             STEM        15.0        50-99         Pvt Ltd           >4   \n",
       "1             STEM        21.0        50-99  Funded Startup            4   \n",
       "2             STEM        13.0          <10         Pvt Ltd           >4   \n",
       "3             STEM         7.0        50-99         Pvt Ltd            1   \n",
       "4             STEM         5.0    5000-9999         Pvt Ltd            1   \n",
       "\n",
       "   training_hours  target  \n",
       "0              47     0.0  \n",
       "1               8     0.0  \n",
       "2              18     1.0  \n",
       "3              46     1.0  \n",
       "4             108     0.0  "
      ]
     },
     "execution_count": 12,
     "metadata": {},
     "output_type": "execute_result"
    }
   ],
   "source": [
    "df.head()"
   ]
  },
  {
   "cell_type": "code",
   "execution_count": 13,
   "metadata": {},
   "outputs": [
    {
     "data": {
      "text/plain": [
       "50-99        1986\n",
       "100-500      1814\n",
       "10000+       1449\n",
       "10/49         951\n",
       "1000-4999     930\n",
       "<10           840\n",
       "500-999       592\n",
       "5000-9999     393\n",
       "Name: company_size, dtype: int64"
      ]
     },
     "execution_count": 13,
     "metadata": {},
     "output_type": "execute_result"
    }
   ],
   "source": [
    "df['company_size'].value_counts()"
   ]
  },
  {
   "cell_type": "code",
   "execution_count": 14,
   "metadata": {},
   "outputs": [],
   "source": [
    "df.loc[df[\"company_size\"].isin([\"<10\"]), \"company_size\"] = 0\n",
    "df.loc[df[\"company_size\"].isin([\"10/49\"]), \"company_size\"] = 1\n",
    "df.loc[df[\"company_size\"].isin([\"50-99\"]), \"company_size\"] = 2\n",
    "df.loc[df[\"company_size\"].isin([\"100-500\"]), \"company_size\"] = 3\n",
    "df.loc[df[\"company_size\"].isin([\"500-999\"]), \"company_size\"] = 4\n",
    "df.loc[df[\"company_size\"].isin([\"1000-4999\"]), \"company_size\"] = 5\n",
    "df.loc[df[\"company_size\"].isin([\"5000-9999\"]), \"company_size\"] = 6\n",
    "df.loc[df[\"company_size\"].isin([\"10000+\"]), \"company_size\"] = 7\n",
    "df['company_size'] = df['company_size'].astype(\"int64\")"
   ]
  },
  {
   "cell_type": "code",
   "execution_count": 15,
   "metadata": {},
   "outputs": [
    {
     "data": {
      "text/html": [
       "<div>\n",
       "<style scoped>\n",
       "    .dataframe tbody tr th:only-of-type {\n",
       "        vertical-align: middle;\n",
       "    }\n",
       "\n",
       "    .dataframe tbody tr th {\n",
       "        vertical-align: top;\n",
       "    }\n",
       "\n",
       "    .dataframe thead th {\n",
       "        text-align: right;\n",
       "    }\n",
       "</style>\n",
       "<table border=\"1\" class=\"dataframe\">\n",
       "  <thead>\n",
       "    <tr style=\"text-align: right;\">\n",
       "      <th></th>\n",
       "      <th>enrollee_id</th>\n",
       "      <th>city</th>\n",
       "      <th>city_development_index</th>\n",
       "      <th>gender</th>\n",
       "      <th>relevent_experience</th>\n",
       "      <th>enrolled_university</th>\n",
       "      <th>education_level</th>\n",
       "      <th>major_discipline</th>\n",
       "      <th>experience</th>\n",
       "      <th>company_size</th>\n",
       "      <th>company_type</th>\n",
       "      <th>last_new_job</th>\n",
       "      <th>training_hours</th>\n",
       "      <th>target</th>\n",
       "    </tr>\n",
       "  </thead>\n",
       "  <tbody>\n",
       "    <tr>\n",
       "      <th>0</th>\n",
       "      <td>29725</td>\n",
       "      <td>city_others</td>\n",
       "      <td>0.776</td>\n",
       "      <td>Male</td>\n",
       "      <td>No relevent experience</td>\n",
       "      <td>no_enrollment</td>\n",
       "      <td>0</td>\n",
       "      <td>STEM</td>\n",
       "      <td>15.0</td>\n",
       "      <td>2</td>\n",
       "      <td>Pvt Ltd</td>\n",
       "      <td>&gt;4</td>\n",
       "      <td>47</td>\n",
       "      <td>0.0</td>\n",
       "    </tr>\n",
       "    <tr>\n",
       "      <th>1</th>\n",
       "      <td>666</td>\n",
       "      <td>city_others</td>\n",
       "      <td>0.767</td>\n",
       "      <td>Male</td>\n",
       "      <td>Has relevent experience</td>\n",
       "      <td>no_enrollment</td>\n",
       "      <td>1</td>\n",
       "      <td>STEM</td>\n",
       "      <td>21.0</td>\n",
       "      <td>2</td>\n",
       "      <td>Funded Startup</td>\n",
       "      <td>4</td>\n",
       "      <td>8</td>\n",
       "      <td>0.0</td>\n",
       "    </tr>\n",
       "    <tr>\n",
       "      <th>2</th>\n",
       "      <td>402</td>\n",
       "      <td>city_others</td>\n",
       "      <td>0.762</td>\n",
       "      <td>Male</td>\n",
       "      <td>Has relevent experience</td>\n",
       "      <td>no_enrollment</td>\n",
       "      <td>0</td>\n",
       "      <td>STEM</td>\n",
       "      <td>13.0</td>\n",
       "      <td>0</td>\n",
       "      <td>Pvt Ltd</td>\n",
       "      <td>&gt;4</td>\n",
       "      <td>18</td>\n",
       "      <td>1.0</td>\n",
       "    </tr>\n",
       "    <tr>\n",
       "      <th>3</th>\n",
       "      <td>27107</td>\n",
       "      <td>city_103</td>\n",
       "      <td>0.920</td>\n",
       "      <td>Male</td>\n",
       "      <td>Has relevent experience</td>\n",
       "      <td>no_enrollment</td>\n",
       "      <td>0</td>\n",
       "      <td>STEM</td>\n",
       "      <td>7.0</td>\n",
       "      <td>2</td>\n",
       "      <td>Pvt Ltd</td>\n",
       "      <td>1</td>\n",
       "      <td>46</td>\n",
       "      <td>1.0</td>\n",
       "    </tr>\n",
       "    <tr>\n",
       "      <th>4</th>\n",
       "      <td>23853</td>\n",
       "      <td>city_103</td>\n",
       "      <td>0.920</td>\n",
       "      <td>Male</td>\n",
       "      <td>Has relevent experience</td>\n",
       "      <td>no_enrollment</td>\n",
       "      <td>0</td>\n",
       "      <td>STEM</td>\n",
       "      <td>5.0</td>\n",
       "      <td>6</td>\n",
       "      <td>Pvt Ltd</td>\n",
       "      <td>1</td>\n",
       "      <td>108</td>\n",
       "      <td>0.0</td>\n",
       "    </tr>\n",
       "  </tbody>\n",
       "</table>\n",
       "</div>"
      ],
      "text/plain": [
       "   enrollee_id         city  city_development_index gender  \\\n",
       "0        29725  city_others                   0.776   Male   \n",
       "1          666  city_others                   0.767   Male   \n",
       "2          402  city_others                   0.762   Male   \n",
       "3        27107     city_103                   0.920   Male   \n",
       "4        23853     city_103                   0.920   Male   \n",
       "\n",
       "       relevent_experience enrolled_university  education_level  \\\n",
       "0   No relevent experience       no_enrollment                0   \n",
       "1  Has relevent experience       no_enrollment                1   \n",
       "2  Has relevent experience       no_enrollment                0   \n",
       "3  Has relevent experience       no_enrollment                0   \n",
       "4  Has relevent experience       no_enrollment                0   \n",
       "\n",
       "  major_discipline  experience  company_size    company_type last_new_job  \\\n",
       "0             STEM        15.0             2         Pvt Ltd           >4   \n",
       "1             STEM        21.0             2  Funded Startup            4   \n",
       "2             STEM        13.0             0         Pvt Ltd           >4   \n",
       "3             STEM         7.0             2         Pvt Ltd            1   \n",
       "4             STEM         5.0             6         Pvt Ltd            1   \n",
       "\n",
       "   training_hours  target  \n",
       "0              47     0.0  \n",
       "1               8     0.0  \n",
       "2              18     1.0  \n",
       "3              46     1.0  \n",
       "4             108     0.0  "
      ]
     },
     "execution_count": 15,
     "metadata": {},
     "output_type": "execute_result"
    }
   ],
   "source": [
    "df.head()"
   ]
  },
  {
   "cell_type": "code",
   "execution_count": 16,
   "metadata": {},
   "outputs": [
    {
     "data": {
      "text/plain": [
       "1        3838\n",
       ">4       1965\n",
       "2        1570\n",
       "3         610\n",
       "4         599\n",
       "never     373\n",
       "Name: last_new_job, dtype: int64"
      ]
     },
     "execution_count": 16,
     "metadata": {},
     "output_type": "execute_result"
    }
   ],
   "source": [
    "df['last_new_job'].value_counts()"
   ]
  },
  {
   "cell_type": "code",
   "execution_count": 17,
   "metadata": {},
   "outputs": [],
   "source": [
    "df.loc[df[\"last_new_job\"].isin([\"never\"]), \"last_new_job\"] = 0\n",
    "df.loc[df[\"last_new_job\"].isin([\"1\"]), \"last_new_job\"] = 1\n",
    "df.loc[df[\"last_new_job\"].isin([\"2\"]), \"last_new_job\"] = 2\n",
    "df.loc[df[\"last_new_job\"].isin([\"3\"]), \"last_new_job\"] = 3\n",
    "df.loc[df[\"last_new_job\"].isin([\"4\"]), \"last_new_job\"] = 4\n",
    "df.loc[df[\"last_new_job\"].isin([\">4\"]), \"last_new_job\"] = 5\n",
    "df['last_new_job'] = df['last_new_job'].astype(\"int64\")\n"
   ]
  },
  {
   "cell_type": "code",
   "execution_count": 18,
   "metadata": {},
   "outputs": [
    {
     "data": {
      "text/html": [
       "<div>\n",
       "<style scoped>\n",
       "    .dataframe tbody tr th:only-of-type {\n",
       "        vertical-align: middle;\n",
       "    }\n",
       "\n",
       "    .dataframe tbody tr th {\n",
       "        vertical-align: top;\n",
       "    }\n",
       "\n",
       "    .dataframe thead th {\n",
       "        text-align: right;\n",
       "    }\n",
       "</style>\n",
       "<table border=\"1\" class=\"dataframe\">\n",
       "  <thead>\n",
       "    <tr style=\"text-align: right;\">\n",
       "      <th></th>\n",
       "      <th>enrollee_id</th>\n",
       "      <th>city</th>\n",
       "      <th>city_development_index</th>\n",
       "      <th>gender</th>\n",
       "      <th>relevent_experience</th>\n",
       "      <th>enrolled_university</th>\n",
       "      <th>education_level</th>\n",
       "      <th>major_discipline</th>\n",
       "      <th>experience</th>\n",
       "      <th>company_size</th>\n",
       "      <th>company_type</th>\n",
       "      <th>last_new_job</th>\n",
       "      <th>training_hours</th>\n",
       "      <th>target</th>\n",
       "    </tr>\n",
       "  </thead>\n",
       "  <tbody>\n",
       "    <tr>\n",
       "      <th>0</th>\n",
       "      <td>29725</td>\n",
       "      <td>city_others</td>\n",
       "      <td>0.776</td>\n",
       "      <td>Male</td>\n",
       "      <td>No relevent experience</td>\n",
       "      <td>no_enrollment</td>\n",
       "      <td>0</td>\n",
       "      <td>STEM</td>\n",
       "      <td>15.0</td>\n",
       "      <td>2</td>\n",
       "      <td>Pvt Ltd</td>\n",
       "      <td>5</td>\n",
       "      <td>47</td>\n",
       "      <td>0.0</td>\n",
       "    </tr>\n",
       "    <tr>\n",
       "      <th>1</th>\n",
       "      <td>666</td>\n",
       "      <td>city_others</td>\n",
       "      <td>0.767</td>\n",
       "      <td>Male</td>\n",
       "      <td>Has relevent experience</td>\n",
       "      <td>no_enrollment</td>\n",
       "      <td>1</td>\n",
       "      <td>STEM</td>\n",
       "      <td>21.0</td>\n",
       "      <td>2</td>\n",
       "      <td>Funded Startup</td>\n",
       "      <td>4</td>\n",
       "      <td>8</td>\n",
       "      <td>0.0</td>\n",
       "    </tr>\n",
       "    <tr>\n",
       "      <th>2</th>\n",
       "      <td>402</td>\n",
       "      <td>city_others</td>\n",
       "      <td>0.762</td>\n",
       "      <td>Male</td>\n",
       "      <td>Has relevent experience</td>\n",
       "      <td>no_enrollment</td>\n",
       "      <td>0</td>\n",
       "      <td>STEM</td>\n",
       "      <td>13.0</td>\n",
       "      <td>0</td>\n",
       "      <td>Pvt Ltd</td>\n",
       "      <td>5</td>\n",
       "      <td>18</td>\n",
       "      <td>1.0</td>\n",
       "    </tr>\n",
       "    <tr>\n",
       "      <th>3</th>\n",
       "      <td>27107</td>\n",
       "      <td>city_103</td>\n",
       "      <td>0.920</td>\n",
       "      <td>Male</td>\n",
       "      <td>Has relevent experience</td>\n",
       "      <td>no_enrollment</td>\n",
       "      <td>0</td>\n",
       "      <td>STEM</td>\n",
       "      <td>7.0</td>\n",
       "      <td>2</td>\n",
       "      <td>Pvt Ltd</td>\n",
       "      <td>1</td>\n",
       "      <td>46</td>\n",
       "      <td>1.0</td>\n",
       "    </tr>\n",
       "    <tr>\n",
       "      <th>4</th>\n",
       "      <td>23853</td>\n",
       "      <td>city_103</td>\n",
       "      <td>0.920</td>\n",
       "      <td>Male</td>\n",
       "      <td>Has relevent experience</td>\n",
       "      <td>no_enrollment</td>\n",
       "      <td>0</td>\n",
       "      <td>STEM</td>\n",
       "      <td>5.0</td>\n",
       "      <td>6</td>\n",
       "      <td>Pvt Ltd</td>\n",
       "      <td>1</td>\n",
       "      <td>108</td>\n",
       "      <td>0.0</td>\n",
       "    </tr>\n",
       "  </tbody>\n",
       "</table>\n",
       "</div>"
      ],
      "text/plain": [
       "   enrollee_id         city  city_development_index gender  \\\n",
       "0        29725  city_others                   0.776   Male   \n",
       "1          666  city_others                   0.767   Male   \n",
       "2          402  city_others                   0.762   Male   \n",
       "3        27107     city_103                   0.920   Male   \n",
       "4        23853     city_103                   0.920   Male   \n",
       "\n",
       "       relevent_experience enrolled_university  education_level  \\\n",
       "0   No relevent experience       no_enrollment                0   \n",
       "1  Has relevent experience       no_enrollment                1   \n",
       "2  Has relevent experience       no_enrollment                0   \n",
       "3  Has relevent experience       no_enrollment                0   \n",
       "4  Has relevent experience       no_enrollment                0   \n",
       "\n",
       "  major_discipline  experience  company_size    company_type  last_new_job  \\\n",
       "0             STEM        15.0             2         Pvt Ltd             5   \n",
       "1             STEM        21.0             2  Funded Startup             4   \n",
       "2             STEM        13.0             0         Pvt Ltd             5   \n",
       "3             STEM         7.0             2         Pvt Ltd             1   \n",
       "4             STEM         5.0             6         Pvt Ltd             1   \n",
       "\n",
       "   training_hours  target  \n",
       "0              47     0.0  \n",
       "1               8     0.0  \n",
       "2              18     1.0  \n",
       "3              46     1.0  \n",
       "4             108     0.0  "
      ]
     },
     "execution_count": 18,
     "metadata": {},
     "output_type": "execute_result"
    }
   ],
   "source": [
    "df.head()"
   ]
  },
  {
   "cell_type": "code",
   "execution_count": 19,
   "metadata": {},
   "outputs": [
    {
     "data": {
      "text/plain": [
       "Pvt Ltd                6794\n",
       "Funded Startup          784\n",
       "Public Sector           564\n",
       "Early Stage Startup     385\n",
       "NGO                     356\n",
       "Other                    72\n",
       "Name: company_type, dtype: int64"
      ]
     },
     "execution_count": 19,
     "metadata": {},
     "output_type": "execute_result"
    }
   ],
   "source": [
    "df['company_type'].value_counts()"
   ]
  },
  {
   "cell_type": "code",
   "execution_count": 20,
   "metadata": {},
   "outputs": [
    {
     "data": {
      "text/plain": [
       "STEM               7989\n",
       "Humanities          378\n",
       "Other               177\n",
       "Business Degree     170\n",
       "Arts                129\n",
       "No Major            112\n",
       "Name: major_discipline, dtype: int64"
      ]
     },
     "execution_count": 20,
     "metadata": {},
     "output_type": "execute_result"
    }
   ],
   "source": [
    "df['major_discipline'].value_counts()"
   ]
  },
  {
   "cell_type": "code",
   "execution_count": 21,
   "metadata": {},
   "outputs": [
    {
     "data": {
      "text/plain": [
       "no_enrollment       7594\n",
       "Full time course     832\n",
       "Part time course     529\n",
       "Name: enrolled_university, dtype: int64"
      ]
     },
     "execution_count": 21,
     "metadata": {},
     "output_type": "execute_result"
    }
   ],
   "source": [
    "df['enrolled_university'].value_counts()"
   ]
  },
  {
   "cell_type": "code",
   "execution_count": 22,
   "metadata": {},
   "outputs": [
    {
     "data": {
      "text/plain": [
       "Has relevent experience    7851\n",
       "No relevent experience     1104\n",
       "Name: relevent_experience, dtype: int64"
      ]
     },
     "execution_count": 22,
     "metadata": {},
     "output_type": "execute_result"
    }
   ],
   "source": [
    "df['relevent_experience'].value_counts()"
   ]
  },
  {
   "cell_type": "code",
   "execution_count": 23,
   "metadata": {},
   "outputs": [
    {
     "data": {
      "text/plain": [
       "Male      8073\n",
       "Female     804\n",
       "Other       78\n",
       "Name: gender, dtype: int64"
      ]
     },
     "execution_count": 23,
     "metadata": {},
     "output_type": "execute_result"
    }
   ],
   "source": [
    "df['gender'].value_counts()"
   ]
  },
  {
   "cell_type": "code",
   "execution_count": 24,
   "metadata": {},
   "outputs": [
    {
     "data": {
      "text/plain": [
       "city_others    3934\n",
       "city_103       2426\n",
       "city_21        1111\n",
       "city_16         836\n",
       "city_114        648\n",
       "Name: city, dtype: int64"
      ]
     },
     "execution_count": 24,
     "metadata": {},
     "output_type": "execute_result"
    }
   ],
   "source": [
    "df['city'].value_counts()"
   ]
  },
  {
   "cell_type": "code",
   "execution_count": 25,
   "metadata": {},
   "outputs": [],
   "source": [
    "df = pd.get_dummies(data=df, columns=['company_type', 'major_discipline', 'enrolled_university', 'relevent_experience', 'gender', 'city'])"
   ]
  },
  {
   "cell_type": "code",
   "execution_count": 26,
   "metadata": {},
   "outputs": [],
   "source": [
    "pd.set_option('display.max_columns', None)"
   ]
  },
  {
   "cell_type": "code",
   "execution_count": 27,
   "metadata": {},
   "outputs": [],
   "source": [
    "df = df.iloc[: , 1:]"
   ]
  },
  {
   "cell_type": "code",
   "execution_count": 28,
   "metadata": {},
   "outputs": [
    {
     "name": "stderr",
     "output_type": "stream",
     "text": [
      "C:\\Users\\matth\\AppData\\Local\\Temp\\ipykernel_28248\\858452946.py:2: FutureWarning: In a future version of pandas all arguments of concat except for the argument 'objs' will be keyword-only.\n",
      "  df = pd.concat([df, s], 1)\n"
     ]
    }
   ],
   "source": [
    "s = df.pop('target')\n",
    "df = pd.concat([df, s], 1)"
   ]
  },
  {
   "cell_type": "code",
   "execution_count": 29,
   "metadata": {},
   "outputs": [
    {
     "data": {
      "text/html": [
       "<div>\n",
       "<style scoped>\n",
       "    .dataframe tbody tr th:only-of-type {\n",
       "        vertical-align: middle;\n",
       "    }\n",
       "\n",
       "    .dataframe tbody tr th {\n",
       "        vertical-align: top;\n",
       "    }\n",
       "\n",
       "    .dataframe thead th {\n",
       "        text-align: right;\n",
       "    }\n",
       "</style>\n",
       "<table border=\"1\" class=\"dataframe\">\n",
       "  <thead>\n",
       "    <tr style=\"text-align: right;\">\n",
       "      <th></th>\n",
       "      <th>city_development_index</th>\n",
       "      <th>education_level</th>\n",
       "      <th>experience</th>\n",
       "      <th>company_size</th>\n",
       "      <th>last_new_job</th>\n",
       "      <th>training_hours</th>\n",
       "      <th>company_type_Early Stage Startup</th>\n",
       "      <th>company_type_Funded Startup</th>\n",
       "      <th>company_type_NGO</th>\n",
       "      <th>company_type_Other</th>\n",
       "      <th>company_type_Public Sector</th>\n",
       "      <th>company_type_Pvt Ltd</th>\n",
       "      <th>major_discipline_Arts</th>\n",
       "      <th>major_discipline_Business Degree</th>\n",
       "      <th>major_discipline_Humanities</th>\n",
       "      <th>major_discipline_No Major</th>\n",
       "      <th>major_discipline_Other</th>\n",
       "      <th>major_discipline_STEM</th>\n",
       "      <th>enrolled_university_Full time course</th>\n",
       "      <th>enrolled_university_Part time course</th>\n",
       "      <th>enrolled_university_no_enrollment</th>\n",
       "      <th>relevent_experience_Has relevent experience</th>\n",
       "      <th>relevent_experience_No relevent experience</th>\n",
       "      <th>gender_Female</th>\n",
       "      <th>gender_Male</th>\n",
       "      <th>gender_Other</th>\n",
       "      <th>city_city_103</th>\n",
       "      <th>city_city_114</th>\n",
       "      <th>city_city_16</th>\n",
       "      <th>city_city_21</th>\n",
       "      <th>city_city_others</th>\n",
       "      <th>target</th>\n",
       "    </tr>\n",
       "  </thead>\n",
       "  <tbody>\n",
       "    <tr>\n",
       "      <th>0</th>\n",
       "      <td>0.776</td>\n",
       "      <td>0</td>\n",
       "      <td>15.0</td>\n",
       "      <td>2</td>\n",
       "      <td>5</td>\n",
       "      <td>47</td>\n",
       "      <td>0</td>\n",
       "      <td>0</td>\n",
       "      <td>0</td>\n",
       "      <td>0</td>\n",
       "      <td>0</td>\n",
       "      <td>1</td>\n",
       "      <td>0</td>\n",
       "      <td>0</td>\n",
       "      <td>0</td>\n",
       "      <td>0</td>\n",
       "      <td>0</td>\n",
       "      <td>1</td>\n",
       "      <td>0</td>\n",
       "      <td>0</td>\n",
       "      <td>1</td>\n",
       "      <td>0</td>\n",
       "      <td>1</td>\n",
       "      <td>0</td>\n",
       "      <td>1</td>\n",
       "      <td>0</td>\n",
       "      <td>0</td>\n",
       "      <td>0</td>\n",
       "      <td>0</td>\n",
       "      <td>0</td>\n",
       "      <td>1</td>\n",
       "      <td>0.0</td>\n",
       "    </tr>\n",
       "    <tr>\n",
       "      <th>1</th>\n",
       "      <td>0.767</td>\n",
       "      <td>1</td>\n",
       "      <td>21.0</td>\n",
       "      <td>2</td>\n",
       "      <td>4</td>\n",
       "      <td>8</td>\n",
       "      <td>0</td>\n",
       "      <td>1</td>\n",
       "      <td>0</td>\n",
       "      <td>0</td>\n",
       "      <td>0</td>\n",
       "      <td>0</td>\n",
       "      <td>0</td>\n",
       "      <td>0</td>\n",
       "      <td>0</td>\n",
       "      <td>0</td>\n",
       "      <td>0</td>\n",
       "      <td>1</td>\n",
       "      <td>0</td>\n",
       "      <td>0</td>\n",
       "      <td>1</td>\n",
       "      <td>1</td>\n",
       "      <td>0</td>\n",
       "      <td>0</td>\n",
       "      <td>1</td>\n",
       "      <td>0</td>\n",
       "      <td>0</td>\n",
       "      <td>0</td>\n",
       "      <td>0</td>\n",
       "      <td>0</td>\n",
       "      <td>1</td>\n",
       "      <td>0.0</td>\n",
       "    </tr>\n",
       "    <tr>\n",
       "      <th>2</th>\n",
       "      <td>0.762</td>\n",
       "      <td>0</td>\n",
       "      <td>13.0</td>\n",
       "      <td>0</td>\n",
       "      <td>5</td>\n",
       "      <td>18</td>\n",
       "      <td>0</td>\n",
       "      <td>0</td>\n",
       "      <td>0</td>\n",
       "      <td>0</td>\n",
       "      <td>0</td>\n",
       "      <td>1</td>\n",
       "      <td>0</td>\n",
       "      <td>0</td>\n",
       "      <td>0</td>\n",
       "      <td>0</td>\n",
       "      <td>0</td>\n",
       "      <td>1</td>\n",
       "      <td>0</td>\n",
       "      <td>0</td>\n",
       "      <td>1</td>\n",
       "      <td>1</td>\n",
       "      <td>0</td>\n",
       "      <td>0</td>\n",
       "      <td>1</td>\n",
       "      <td>0</td>\n",
       "      <td>0</td>\n",
       "      <td>0</td>\n",
       "      <td>0</td>\n",
       "      <td>0</td>\n",
       "      <td>1</td>\n",
       "      <td>1.0</td>\n",
       "    </tr>\n",
       "    <tr>\n",
       "      <th>3</th>\n",
       "      <td>0.920</td>\n",
       "      <td>0</td>\n",
       "      <td>7.0</td>\n",
       "      <td>2</td>\n",
       "      <td>1</td>\n",
       "      <td>46</td>\n",
       "      <td>0</td>\n",
       "      <td>0</td>\n",
       "      <td>0</td>\n",
       "      <td>0</td>\n",
       "      <td>0</td>\n",
       "      <td>1</td>\n",
       "      <td>0</td>\n",
       "      <td>0</td>\n",
       "      <td>0</td>\n",
       "      <td>0</td>\n",
       "      <td>0</td>\n",
       "      <td>1</td>\n",
       "      <td>0</td>\n",
       "      <td>0</td>\n",
       "      <td>1</td>\n",
       "      <td>1</td>\n",
       "      <td>0</td>\n",
       "      <td>0</td>\n",
       "      <td>1</td>\n",
       "      <td>0</td>\n",
       "      <td>1</td>\n",
       "      <td>0</td>\n",
       "      <td>0</td>\n",
       "      <td>0</td>\n",
       "      <td>0</td>\n",
       "      <td>1.0</td>\n",
       "    </tr>\n",
       "    <tr>\n",
       "      <th>4</th>\n",
       "      <td>0.920</td>\n",
       "      <td>0</td>\n",
       "      <td>5.0</td>\n",
       "      <td>6</td>\n",
       "      <td>1</td>\n",
       "      <td>108</td>\n",
       "      <td>0</td>\n",
       "      <td>0</td>\n",
       "      <td>0</td>\n",
       "      <td>0</td>\n",
       "      <td>0</td>\n",
       "      <td>1</td>\n",
       "      <td>0</td>\n",
       "      <td>0</td>\n",
       "      <td>0</td>\n",
       "      <td>0</td>\n",
       "      <td>0</td>\n",
       "      <td>1</td>\n",
       "      <td>0</td>\n",
       "      <td>0</td>\n",
       "      <td>1</td>\n",
       "      <td>1</td>\n",
       "      <td>0</td>\n",
       "      <td>0</td>\n",
       "      <td>1</td>\n",
       "      <td>0</td>\n",
       "      <td>1</td>\n",
       "      <td>0</td>\n",
       "      <td>0</td>\n",
       "      <td>0</td>\n",
       "      <td>0</td>\n",
       "      <td>0.0</td>\n",
       "    </tr>\n",
       "    <tr>\n",
       "      <th>...</th>\n",
       "      <td>...</td>\n",
       "      <td>...</td>\n",
       "      <td>...</td>\n",
       "      <td>...</td>\n",
       "      <td>...</td>\n",
       "      <td>...</td>\n",
       "      <td>...</td>\n",
       "      <td>...</td>\n",
       "      <td>...</td>\n",
       "      <td>...</td>\n",
       "      <td>...</td>\n",
       "      <td>...</td>\n",
       "      <td>...</td>\n",
       "      <td>...</td>\n",
       "      <td>...</td>\n",
       "      <td>...</td>\n",
       "      <td>...</td>\n",
       "      <td>...</td>\n",
       "      <td>...</td>\n",
       "      <td>...</td>\n",
       "      <td>...</td>\n",
       "      <td>...</td>\n",
       "      <td>...</td>\n",
       "      <td>...</td>\n",
       "      <td>...</td>\n",
       "      <td>...</td>\n",
       "      <td>...</td>\n",
       "      <td>...</td>\n",
       "      <td>...</td>\n",
       "      <td>...</td>\n",
       "      <td>...</td>\n",
       "      <td>...</td>\n",
       "    </tr>\n",
       "    <tr>\n",
       "      <th>8950</th>\n",
       "      <td>0.624</td>\n",
       "      <td>0</td>\n",
       "      <td>1.0</td>\n",
       "      <td>3</td>\n",
       "      <td>1</td>\n",
       "      <td>52</td>\n",
       "      <td>0</td>\n",
       "      <td>0</td>\n",
       "      <td>0</td>\n",
       "      <td>0</td>\n",
       "      <td>0</td>\n",
       "      <td>1</td>\n",
       "      <td>0</td>\n",
       "      <td>0</td>\n",
       "      <td>0</td>\n",
       "      <td>0</td>\n",
       "      <td>0</td>\n",
       "      <td>1</td>\n",
       "      <td>1</td>\n",
       "      <td>0</td>\n",
       "      <td>0</td>\n",
       "      <td>0</td>\n",
       "      <td>1</td>\n",
       "      <td>0</td>\n",
       "      <td>1</td>\n",
       "      <td>0</td>\n",
       "      <td>0</td>\n",
       "      <td>0</td>\n",
       "      <td>0</td>\n",
       "      <td>1</td>\n",
       "      <td>0</td>\n",
       "      <td>1.0</td>\n",
       "    </tr>\n",
       "    <tr>\n",
       "      <th>8951</th>\n",
       "      <td>0.920</td>\n",
       "      <td>1</td>\n",
       "      <td>9.0</td>\n",
       "      <td>2</td>\n",
       "      <td>1</td>\n",
       "      <td>36</td>\n",
       "      <td>0</td>\n",
       "      <td>0</td>\n",
       "      <td>0</td>\n",
       "      <td>0</td>\n",
       "      <td>0</td>\n",
       "      <td>1</td>\n",
       "      <td>0</td>\n",
       "      <td>0</td>\n",
       "      <td>0</td>\n",
       "      <td>0</td>\n",
       "      <td>0</td>\n",
       "      <td>1</td>\n",
       "      <td>0</td>\n",
       "      <td>0</td>\n",
       "      <td>1</td>\n",
       "      <td>1</td>\n",
       "      <td>0</td>\n",
       "      <td>0</td>\n",
       "      <td>1</td>\n",
       "      <td>0</td>\n",
       "      <td>1</td>\n",
       "      <td>0</td>\n",
       "      <td>0</td>\n",
       "      <td>0</td>\n",
       "      <td>0</td>\n",
       "      <td>1.0</td>\n",
       "    </tr>\n",
       "    <tr>\n",
       "      <th>8952</th>\n",
       "      <td>0.920</td>\n",
       "      <td>0</td>\n",
       "      <td>10.0</td>\n",
       "      <td>3</td>\n",
       "      <td>3</td>\n",
       "      <td>23</td>\n",
       "      <td>0</td>\n",
       "      <td>0</td>\n",
       "      <td>0</td>\n",
       "      <td>0</td>\n",
       "      <td>1</td>\n",
       "      <td>0</td>\n",
       "      <td>0</td>\n",
       "      <td>0</td>\n",
       "      <td>0</td>\n",
       "      <td>0</td>\n",
       "      <td>0</td>\n",
       "      <td>1</td>\n",
       "      <td>0</td>\n",
       "      <td>0</td>\n",
       "      <td>1</td>\n",
       "      <td>1</td>\n",
       "      <td>0</td>\n",
       "      <td>1</td>\n",
       "      <td>0</td>\n",
       "      <td>0</td>\n",
       "      <td>0</td>\n",
       "      <td>0</td>\n",
       "      <td>0</td>\n",
       "      <td>0</td>\n",
       "      <td>1</td>\n",
       "      <td>0.0</td>\n",
       "    </tr>\n",
       "    <tr>\n",
       "      <th>8953</th>\n",
       "      <td>0.920</td>\n",
       "      <td>0</td>\n",
       "      <td>7.0</td>\n",
       "      <td>1</td>\n",
       "      <td>1</td>\n",
       "      <td>25</td>\n",
       "      <td>0</td>\n",
       "      <td>1</td>\n",
       "      <td>0</td>\n",
       "      <td>0</td>\n",
       "      <td>0</td>\n",
       "      <td>0</td>\n",
       "      <td>0</td>\n",
       "      <td>0</td>\n",
       "      <td>1</td>\n",
       "      <td>0</td>\n",
       "      <td>0</td>\n",
       "      <td>0</td>\n",
       "      <td>0</td>\n",
       "      <td>0</td>\n",
       "      <td>1</td>\n",
       "      <td>1</td>\n",
       "      <td>0</td>\n",
       "      <td>1</td>\n",
       "      <td>0</td>\n",
       "      <td>0</td>\n",
       "      <td>1</td>\n",
       "      <td>0</td>\n",
       "      <td>0</td>\n",
       "      <td>0</td>\n",
       "      <td>0</td>\n",
       "      <td>0.0</td>\n",
       "    </tr>\n",
       "    <tr>\n",
       "      <th>8954</th>\n",
       "      <td>0.920</td>\n",
       "      <td>0</td>\n",
       "      <td>21.0</td>\n",
       "      <td>2</td>\n",
       "      <td>4</td>\n",
       "      <td>44</td>\n",
       "      <td>0</td>\n",
       "      <td>0</td>\n",
       "      <td>0</td>\n",
       "      <td>0</td>\n",
       "      <td>0</td>\n",
       "      <td>1</td>\n",
       "      <td>0</td>\n",
       "      <td>0</td>\n",
       "      <td>0</td>\n",
       "      <td>0</td>\n",
       "      <td>0</td>\n",
       "      <td>1</td>\n",
       "      <td>0</td>\n",
       "      <td>0</td>\n",
       "      <td>1</td>\n",
       "      <td>1</td>\n",
       "      <td>0</td>\n",
       "      <td>0</td>\n",
       "      <td>1</td>\n",
       "      <td>0</td>\n",
       "      <td>1</td>\n",
       "      <td>0</td>\n",
       "      <td>0</td>\n",
       "      <td>0</td>\n",
       "      <td>0</td>\n",
       "      <td>0.0</td>\n",
       "    </tr>\n",
       "  </tbody>\n",
       "</table>\n",
       "<p>8955 rows × 32 columns</p>\n",
       "</div>"
      ],
      "text/plain": [
       "      city_development_index  education_level  experience  company_size  \\\n",
       "0                      0.776                0        15.0             2   \n",
       "1                      0.767                1        21.0             2   \n",
       "2                      0.762                0        13.0             0   \n",
       "3                      0.920                0         7.0             2   \n",
       "4                      0.920                0         5.0             6   \n",
       "...                      ...              ...         ...           ...   \n",
       "8950                   0.624                0         1.0             3   \n",
       "8951                   0.920                1         9.0             2   \n",
       "8952                   0.920                0        10.0             3   \n",
       "8953                   0.920                0         7.0             1   \n",
       "8954                   0.920                0        21.0             2   \n",
       "\n",
       "      last_new_job  training_hours  company_type_Early Stage Startup  \\\n",
       "0                5              47                                 0   \n",
       "1                4               8                                 0   \n",
       "2                5              18                                 0   \n",
       "3                1              46                                 0   \n",
       "4                1             108                                 0   \n",
       "...            ...             ...                               ...   \n",
       "8950             1              52                                 0   \n",
       "8951             1              36                                 0   \n",
       "8952             3              23                                 0   \n",
       "8953             1              25                                 0   \n",
       "8954             4              44                                 0   \n",
       "\n",
       "      company_type_Funded Startup  company_type_NGO  company_type_Other  \\\n",
       "0                               0                 0                   0   \n",
       "1                               1                 0                   0   \n",
       "2                               0                 0                   0   \n",
       "3                               0                 0                   0   \n",
       "4                               0                 0                   0   \n",
       "...                           ...               ...                 ...   \n",
       "8950                            0                 0                   0   \n",
       "8951                            0                 0                   0   \n",
       "8952                            0                 0                   0   \n",
       "8953                            1                 0                   0   \n",
       "8954                            0                 0                   0   \n",
       "\n",
       "      company_type_Public Sector  company_type_Pvt Ltd  major_discipline_Arts  \\\n",
       "0                              0                     1                      0   \n",
       "1                              0                     0                      0   \n",
       "2                              0                     1                      0   \n",
       "3                              0                     1                      0   \n",
       "4                              0                     1                      0   \n",
       "...                          ...                   ...                    ...   \n",
       "8950                           0                     1                      0   \n",
       "8951                           0                     1                      0   \n",
       "8952                           1                     0                      0   \n",
       "8953                           0                     0                      0   \n",
       "8954                           0                     1                      0   \n",
       "\n",
       "      major_discipline_Business Degree  major_discipline_Humanities  \\\n",
       "0                                    0                            0   \n",
       "1                                    0                            0   \n",
       "2                                    0                            0   \n",
       "3                                    0                            0   \n",
       "4                                    0                            0   \n",
       "...                                ...                          ...   \n",
       "8950                                 0                            0   \n",
       "8951                                 0                            0   \n",
       "8952                                 0                            0   \n",
       "8953                                 0                            1   \n",
       "8954                                 0                            0   \n",
       "\n",
       "      major_discipline_No Major  major_discipline_Other  \\\n",
       "0                             0                       0   \n",
       "1                             0                       0   \n",
       "2                             0                       0   \n",
       "3                             0                       0   \n",
       "4                             0                       0   \n",
       "...                         ...                     ...   \n",
       "8950                          0                       0   \n",
       "8951                          0                       0   \n",
       "8952                          0                       0   \n",
       "8953                          0                       0   \n",
       "8954                          0                       0   \n",
       "\n",
       "      major_discipline_STEM  enrolled_university_Full time course  \\\n",
       "0                         1                                     0   \n",
       "1                         1                                     0   \n",
       "2                         1                                     0   \n",
       "3                         1                                     0   \n",
       "4                         1                                     0   \n",
       "...                     ...                                   ...   \n",
       "8950                      1                                     1   \n",
       "8951                      1                                     0   \n",
       "8952                      1                                     0   \n",
       "8953                      0                                     0   \n",
       "8954                      1                                     0   \n",
       "\n",
       "      enrolled_university_Part time course  enrolled_university_no_enrollment  \\\n",
       "0                                        0                                  1   \n",
       "1                                        0                                  1   \n",
       "2                                        0                                  1   \n",
       "3                                        0                                  1   \n",
       "4                                        0                                  1   \n",
       "...                                    ...                                ...   \n",
       "8950                                     0                                  0   \n",
       "8951                                     0                                  1   \n",
       "8952                                     0                                  1   \n",
       "8953                                     0                                  1   \n",
       "8954                                     0                                  1   \n",
       "\n",
       "      relevent_experience_Has relevent experience  \\\n",
       "0                                               0   \n",
       "1                                               1   \n",
       "2                                               1   \n",
       "3                                               1   \n",
       "4                                               1   \n",
       "...                                           ...   \n",
       "8950                                            0   \n",
       "8951                                            1   \n",
       "8952                                            1   \n",
       "8953                                            1   \n",
       "8954                                            1   \n",
       "\n",
       "      relevent_experience_No relevent experience  gender_Female  gender_Male  \\\n",
       "0                                              1              0            1   \n",
       "1                                              0              0            1   \n",
       "2                                              0              0            1   \n",
       "3                                              0              0            1   \n",
       "4                                              0              0            1   \n",
       "...                                          ...            ...          ...   \n",
       "8950                                           1              0            1   \n",
       "8951                                           0              0            1   \n",
       "8952                                           0              1            0   \n",
       "8953                                           0              1            0   \n",
       "8954                                           0              0            1   \n",
       "\n",
       "      gender_Other  city_city_103  city_city_114  city_city_16  city_city_21  \\\n",
       "0                0              0              0             0             0   \n",
       "1                0              0              0             0             0   \n",
       "2                0              0              0             0             0   \n",
       "3                0              1              0             0             0   \n",
       "4                0              1              0             0             0   \n",
       "...            ...            ...            ...           ...           ...   \n",
       "8950             0              0              0             0             1   \n",
       "8951             0              1              0             0             0   \n",
       "8952             0              0              0             0             0   \n",
       "8953             0              1              0             0             0   \n",
       "8954             0              1              0             0             0   \n",
       "\n",
       "      city_city_others  target  \n",
       "0                    1     0.0  \n",
       "1                    1     0.0  \n",
       "2                    1     1.0  \n",
       "3                    0     1.0  \n",
       "4                    0     0.0  \n",
       "...                ...     ...  \n",
       "8950                 0     1.0  \n",
       "8951                 0     1.0  \n",
       "8952                 1     0.0  \n",
       "8953                 0     0.0  \n",
       "8954                 0     0.0  \n",
       "\n",
       "[8955 rows x 32 columns]"
      ]
     },
     "execution_count": 29,
     "metadata": {},
     "output_type": "execute_result"
    }
   ],
   "source": [
    "df"
   ]
  },
  {
   "cell_type": "code",
   "execution_count": 30,
   "metadata": {},
   "outputs": [],
   "source": [
    "from sklearn.preprocessing import MinMaxScaler\n",
    "scaler = MinMaxScaler()\n",
    "data = scaler.fit_transform(df)"
   ]
  },
  {
   "cell_type": "markdown",
   "metadata": {
    "id": "WiX15HHo413C"
   },
   "source": [
    "# 3. X/Y and Training/Test Split with stratified sampling and SMOTE\n",
    "<hr>\n",
    "<ol type=\"I\">\n",
    "  <li>Copy all the features into X and the target to Y</li>\n",
    "  <li>Show the ratio of 1 and 0 in Y</li>\n",
    "  <li>Use sklearn's train_test_split to split the data set into training and test sets. There should be 30% records in the test set. The random_stat should be 0. As we want to have the same ratio of 0 and 1 in the test set, use the stratify parameter to the Y.</li>\n",
    "  <li>Show the ratio of 0 and 1 in y_train and then y_test</li>\n",
    "  <li>Rebalance:</li>\n",
    "  <ol type=\"I\">\n",
    "  <li> Use imblearn's SMOTE to balance the x_train (<a href=\"https://imbalanced-learn.org/stable/over_sampling.html\">Help Link</a>)  (section 2.1.2)</li>\n",
    "  </ol>\n",
    "  <li>Show the ratio of 0 and 1 in Y_train after rebalancing. (do you have 50% of each class now?)</li>\n",
    "</ol>"
   ]
  },
  {
   "cell_type": "code",
   "execution_count": 31,
   "metadata": {},
   "outputs": [],
   "source": [
    "X = data[:,:-1]\n",
    "y = data[:,-1]"
   ]
  },
  {
   "cell_type": "code",
   "execution_count": 32,
   "metadata": {},
   "outputs": [
    {
     "name": "stdout",
     "output_type": "stream",
     "text": [
      "Ratio hired = 0.16560580681183695\n",
      "Ratio not hired = 0.834394193188163\n"
     ]
    }
   ],
   "source": [
    "ratio_hires = sum(y)/len(y)\n",
    "ratio_no_hire = (len(y) - sum(y))/len(y)\n",
    "print(\"Ratio hired = {}\\nRatio not hired = {}\".format(ratio_hires,ratio_no_hire))"
   ]
  },
  {
   "cell_type": "code",
   "execution_count": 33,
   "metadata": {},
   "outputs": [],
   "source": [
    "from sklearn.model_selection import train_test_split\n",
    "X_train, X_test, y_train, y_test = train_test_split(X, y, test_size=0.3, random_state=0, stratify = y)"
   ]
  },
  {
   "cell_type": "code",
   "execution_count": 34,
   "metadata": {},
   "outputs": [
    {
     "name": "stdout",
     "output_type": "stream",
     "text": [
      "Ratio hired = 0.1656030631780472\n",
      "Ratio not hired = 0.8343969368219528\n"
     ]
    }
   ],
   "source": [
    "ratio_hires = sum(y_train)/len(y_train)\n",
    "ratio_no_hire = (len(y_train) - sum(y_train))/len(y_train)\n",
    "print(\"Ratio hired = {}\\nRatio not hired = {}\".format(ratio_hires,ratio_no_hire))"
   ]
  },
  {
   "cell_type": "code",
   "execution_count": 35,
   "metadata": {},
   "outputs": [
    {
     "name": "stdout",
     "output_type": "stream",
     "text": [
      "Ratio hired = 0.1656122069222181\n",
      "Ratio not hired = 0.8343877930777819\n"
     ]
    }
   ],
   "source": [
    "ratio_hires = sum(y_test)/len(y_test)\n",
    "ratio_no_hire = (len(y_test) - sum(y_test))/len(y_test)\n",
    "print(\"Ratio hired = {}\\nRatio not hired = {}\".format(ratio_hires,ratio_no_hire))"
   ]
  },
  {
   "cell_type": "code",
   "execution_count": 36,
   "metadata": {},
   "outputs": [],
   "source": [
    "X_unbalanced_train = X_train\n",
    "y_unbalanced_train = y_train"
   ]
  },
  {
   "cell_type": "code",
   "execution_count": 37,
   "metadata": {},
   "outputs": [],
   "source": [
    "from imblearn.over_sampling import SMOTE\n",
    "X_train, y_train = SMOTE().fit_resample(X_train, y_train)"
   ]
  },
  {
   "cell_type": "code",
   "execution_count": 38,
   "metadata": {},
   "outputs": [
    {
     "name": "stdout",
     "output_type": "stream",
     "text": [
      "Ratio hired = 0.5\n",
      "Ratio not hired = 0.5\n"
     ]
    }
   ],
   "source": [
    "ratio_hires = sum(y_train)/len(y_train)\n",
    "ratio_no_hire = (len(y_train) - sum(y_train))/len(y_train)\n",
    "print(\"Ratio hired = {}\\nRatio not hired = {}\".format(ratio_hires,ratio_no_hire))"
   ]
  },
  {
   "cell_type": "markdown",
   "metadata": {
    "id": "XWrYw_ji9aWR"
   },
   "source": [
    "# 4. PCA and Logistic Regression\n",
    "<hr>\n",
    "<ol type=\"I\">\n",
    "  <li>As we have many features now, we would like to do principal component analysis (you have learned it in datacamp). As part of ti, create pipeline to find how many dimensions give you the best logistic regression model. You can follow <a href=\"https://machinelearningmastery.com/principal-components-analysis-for-dimensionality-reduction-in-python/\">this link</a> (consider using the code right before the plot). But you need to use our balanced training set in this experiment. Also, number of features should be based on how many maximum features do we have so far. This question should produce a plot and based on that you need to decide how many features would you like to use.</li>\n",
    "  <li>Based on the number of features chosen in the above step, use the test set to evaluate the model for accuracy (the code right after the plot can give you an idea about it.). Use sklearn.metrics import accuracy_score for accuracy (the google colab link in the classification module should help with it)</li>\n",
    "  <li>Show the confusion matrix and interpret the numbers in the confusion matrix (the google colab link in the classification module should help with it)</li>\n",
    "  <li>Show precision, recall, and f1 score ((the google colab link in the classification module should help with it)). Note that all of these scores should be calculated based on the test set and predicted result for the test set</li>\n",
    "  <li>Plot ROC curve and find AUC (the same google colab link should help you)</li>\n",
    "  <li>Plot precision-recall curve for different thresholds and discuss the plot</li>\n",
    "</ol>\n",
    "\n"
   ]
  },
  {
   "cell_type": "code",
   "execution_count": 39,
   "metadata": {},
   "outputs": [
    {
     "name": "stdout",
     "output_type": "stream",
     "text": [
      ">1 0.681 (0.012)\n",
      ">2 0.690 (0.013)\n",
      ">3 0.690 (0.013)\n",
      ">4 0.692 (0.014)\n",
      ">5 0.701 (0.013)\n",
      ">6 0.702 (0.013)\n",
      ">7 0.711 (0.013)\n",
      ">8 0.723 (0.010)\n",
      ">9 0.722 (0.011)\n",
      ">10 0.729 (0.011)\n",
      ">11 0.729 (0.011)\n",
      ">12 0.729 (0.011)\n",
      ">13 0.728 (0.012)\n",
      ">14 0.727 (0.012)\n",
      ">15 0.729 (0.011)\n",
      ">16 0.728 (0.012)\n",
      ">17 0.727 (0.012)\n",
      ">18 0.728 (0.013)\n",
      ">19 0.728 (0.013)\n",
      ">20 0.733 (0.012)\n",
      ">21 0.733 (0.011)\n",
      ">22 0.732 (0.011)\n",
      ">23 0.732 (0.011)\n",
      ">24 0.733 (0.012)\n",
      ">25 0.733 (0.012)\n",
      ">26 0.733 (0.012)\n",
      ">27 0.733 (0.012)\n",
      ">28 0.733 (0.012)\n",
      ">29 0.733 (0.012)\n",
      ">30 0.733 (0.012)\n"
     ]
    }
   ],
   "source": [
    "# compare pca number of components with logistic regression algorithm for classification\n",
    "from numpy import mean\n",
    "from numpy import std\n",
    "from sklearn.datasets import make_classification\n",
    "from sklearn.model_selection import cross_val_score\n",
    "from sklearn.model_selection import RepeatedStratifiedKFold\n",
    "from sklearn.pipeline import Pipeline\n",
    "from sklearn.decomposition import PCA\n",
    "from sklearn.linear_model import LogisticRegression\n",
    "from matplotlib import pyplot\n",
    "\n",
    "\n",
    "\n",
    "# get a list of models to evaluate\n",
    "def get_models():\n",
    "\tmodels = dict()\n",
    "\tfor i in range(1,31):\n",
    "\t\tsteps = [('pca', PCA(n_components=i)), ('m', LogisticRegression())]\n",
    "\t\tmodels[str(i)] = Pipeline(steps=steps)\n",
    "\treturn models\n",
    "\n",
    "# evaluate a given model using cross-validation\n",
    "def evaluate_model(model, X, y):\n",
    "\tcv = RepeatedStratifiedKFold(n_splits=10, n_repeats=3, random_state=1)\n",
    "\tscores = cross_val_score(model, X, y, scoring='accuracy', cv=cv, n_jobs=-1, error_score='raise')\n",
    "\treturn scores\n",
    "# get the models to evaluate\n",
    "models = get_models()\n",
    "# evaluate the models and store results\n",
    "results, names = list(), list()\n",
    "for name, model in models.items():\n",
    "\tscores = evaluate_model(model, X_train, y_train)\n",
    "\tresults.append(scores)\n",
    "\tnames.append(name)\n",
    "\tprint('>%s %.3f (%.3f)' % (name, mean(scores), std(scores)))"
   ]
  },
  {
   "cell_type": "code",
   "execution_count": 40,
   "metadata": {},
   "outputs": [],
   "source": [
    "# define the model\n",
    "steps = [('pca', PCA(n_components=15)), ('m', LogisticRegression())]\n",
    "model = Pipeline(steps=steps)\n",
    "# fit the model on the whole dataset\n",
    "model.fit(X_train, y_train)\n",
    "# make a single prediction\n",
    "y_pred = model.predict(X_test)"
   ]
  },
  {
   "cell_type": "code",
   "execution_count": 41,
   "metadata": {},
   "outputs": [
    {
     "data": {
      "text/plain": [
       "0.819129140305173"
      ]
     },
     "execution_count": 41,
     "metadata": {},
     "output_type": "execute_result"
    }
   ],
   "source": [
    "from sklearn.metrics import accuracy_score\n",
    "accuracy_score(y_test, y_pred)"
   ]
  },
  {
   "cell_type": "code",
   "execution_count": 42,
   "metadata": {},
   "outputs": [
    {
     "data": {
      "text/plain": [
       "array([[1950,  292],\n",
       "       [ 194,  251]], dtype=int64)"
      ]
     },
     "execution_count": 42,
     "metadata": {},
     "output_type": "execute_result"
    }
   ],
   "source": [
    "from sklearn.metrics import confusion_matrix\n",
    "confusion_matrix(y_test, y_pred)"
   ]
  },
  {
   "cell_type": "code",
   "execution_count": 43,
   "metadata": {},
   "outputs": [
    {
     "data": {
      "text/plain": [
       "0.4622467771639042"
      ]
     },
     "execution_count": 43,
     "metadata": {},
     "output_type": "execute_result"
    }
   ],
   "source": [
    "from sklearn.metrics import precision_score, recall_score\n",
    "precision_score(y_test, y_pred)"
   ]
  },
  {
   "cell_type": "code",
   "execution_count": 44,
   "metadata": {},
   "outputs": [
    {
     "data": {
      "text/plain": [
       "0.5640449438202247"
      ]
     },
     "execution_count": 44,
     "metadata": {},
     "output_type": "execute_result"
    }
   ],
   "source": [
    "recall_score(y_test, y_pred)"
   ]
  },
  {
   "cell_type": "code",
   "execution_count": 45,
   "metadata": {},
   "outputs": [
    {
     "data": {
      "text/plain": [
       "0.5080971659919028"
      ]
     },
     "execution_count": 45,
     "metadata": {},
     "output_type": "execute_result"
    }
   ],
   "source": [
    "from sklearn.metrics import f1_score\n",
    "f1_score(y_test, y_pred)"
   ]
  },
  {
   "cell_type": "code",
   "execution_count": 46,
   "metadata": {},
   "outputs": [],
   "source": [
    "from sklearn.model_selection import cross_val_predict\n",
    "y_scores = cross_val_predict(model, X_train, y_train, cv=3, method=\"decision_function\")"
   ]
  },
  {
   "cell_type": "code",
   "execution_count": 47,
   "metadata": {},
   "outputs": [],
   "source": [
    "from sklearn.metrics import roc_curve\n",
    "fpr, tpr, thresholds = roc_curve(y_train, y_scores)"
   ]
  },
  {
   "cell_type": "code",
   "execution_count": 48,
   "metadata": {},
   "outputs": [
    {
     "data": {
      "image/png": "[encoded data removed]",
      "text/plain": [
       "<Figure size 432x288 with 1 Axes>"
      ]
     },
     "metadata": {
      "needs_background": "light"
     },
     "output_type": "display_data"
    }
   ],
   "source": [
    "def plot_roc_curve(fpr, tpr, label=None):\n",
    "    plt.plot(fpr, tpr, linewidth=2, label=label)\n",
    "    plt.plot([0, 1], [0, 1], 'k--') # dashed diagonal\n",
    " \n",
    "plot_roc_curve(fpr, tpr)\n",
    "\n",
    "plt.xlabel(\"False positive rate\")\n",
    "plt.ylabel(\"True positive rate (Recall)\")\n",
    "plt.show()"
   ]
  },
  {
   "cell_type": "code",
   "execution_count": 49,
   "metadata": {},
   "outputs": [
    {
     "data": {
      "text/plain": [
       "0.7788520595622401"
      ]
     },
     "execution_count": 49,
     "metadata": {},
     "output_type": "execute_result"
    }
   ],
   "source": [
    "from sklearn.metrics import roc_auc_score\n",
    "roc_auc_score(y_train, y_scores)"
   ]
  },
  {
   "cell_type": "code",
   "execution_count": 50,
   "metadata": {},
   "outputs": [],
   "source": [
    "from sklearn.metrics import precision_recall_curve\n",
    "precisions, recalls, thresholds = precision_recall_curve(y_train, y_scores)\n"
   ]
  },
  {
   "cell_type": "code",
   "execution_count": 51,
   "metadata": {},
   "outputs": [
    {
     "data": {
      "image/png": "[encoded data removed]",
      "text/plain": [
       "<Figure size 720x360 with 1 Axes>"
      ]
     },
     "metadata": {
      "needs_background": "light"
     },
     "output_type": "display_data"
    }
   ],
   "source": [
    "def plot_precision_recall_vs_threshold(precisions, recalls, thresholds):\n",
    "    plt.plot(thresholds, precisions[:-1], \"b--\", label=\"Precision\")\n",
    "    plt.plot(thresholds, recalls[:-1], \"g-\", label=\"Recall\")\n",
    " #[...] # highlight the threshold, add the legend, axis label and grid\n",
    "\n",
    "plt.figure(figsize=(10,5))\n",
    "plot_precision_recall_vs_threshold(precisions, recalls, thresholds)\n",
    "plt.show()\n",
    "#dotted line precision, solid line recall"
   ]
  },
  {
   "cell_type": "markdown",
   "metadata": {},
   "source": [
    "Precision generally goes up when the threshold is increased but may somethimes go down making it bumpy near the end, recall always goes down when threshold is increased."
   ]
  },
  {
   "cell_type": "markdown",
   "metadata": {
    "id": "vda1kv2V9cOQ"
   },
   "source": [
    "# 5. Softmaxt regression:\n",
    "<hr>\n",
    "1.   How softmax regression is related to logistic regression? What library can you use for softmax regression?"
   ]
  },
  {
   "cell_type": "markdown",
   "metadata": {},
   "source": [
    "Softmax regression is a generalization of logistic regression applied to multiclass classification. Softmax can be used in the TensorFlow Library."
   ]
  },
  {
   "cell_type": "markdown",
   "metadata": {
    "id": "f0pcjoyl-t2F"
   },
   "source": [
    "# 6. KNN <b style=\"color:red\">(Always use rebalanced training set for training, if it is not specified which training set to use)</b>\n",
    "<hr>\n",
    "<ol type=\"1\">\n",
    "  <li> Use sklearn's KNN classifier to train (with k=  10) and predict the model based on the unbalanced training set (the training set before rebalancing) and test it and show the confusion matrix and classification report </li>\n",
    "\n",
    "  <li> Use sklearn's KNN classifier to train (with k=  10) and predict the model based on the rebalanced training set and test it and show the confusion matrix and classification report </li>\n",
    "\n",
    "  <li> Use grid search to tune the following hyperparameters of KNN: number of neighbors (between 1 and 20), weights  (uniform or distance), and metrics (Euclidean, Manhattan, or Minkowski)istance) to use for KNN. While creating an instance of GridSearchCV, use multiple evaluation metrics such as AUC and accuracy based on the example available at <a href=\"https://scikit-learn.org/stable/auto_examples/model_selection/plot_multi_metric_evaluation.html#:~:text=Plotting%20the%20result-,Demonstration%20of%20multi-\">Link to Sklearn</a>\n",
    "  \n",
    "  Link to sklearn (Links to an external site.). Also some helpful links and codes: <a href=\"https://github.com/oguzhankir/Hyperparameter_Tuning/tree/main/Knn_tuning\">GitHub Example</a>\n",
    "  and <a href=\"https://www.youtube.com/watch?v=TvB_3jVIHhg\">Youtube Video</a>\n",
    "  </li>\n",
    " \n",
    "  <li> The above grid search process can take a couple of minutes. After completing the process, print the best_params_ </li>\n",
    "\n",
    "  <li> Based on the result from grid search, use the parameters to train a model, test it with test set, and then print the confusion matrix and classification report. Also, show the AUC of ROC. </li>\n",
    "\n",
    "  <li> Use PCA and based on that train model, test it and then print the confusion matrix and classification report. Also, show the AUC of ROC.</li>\n",
    "  \n",
    "  <li> A short discussion on the 4 models and their differences. </li>\n",
    "</ol>"
   ]
  },
  {
   "cell_type": "code",
   "execution_count": 52,
   "metadata": {},
   "outputs": [
    {
     "data": {
      "text/plain": [
       "KNeighborsClassifier(n_neighbors=10)"
      ]
     },
     "execution_count": 52,
     "metadata": {},
     "output_type": "execute_result"
    }
   ],
   "source": [
    "from sklearn.neighbors import KNeighborsClassifier\n",
    "classifier = KNeighborsClassifier(n_neighbors=10)\n",
    "classifier.fit(X_unbalanced_train, y_unbalanced_train)"
   ]
  },
  {
   "cell_type": "code",
   "execution_count": 53,
   "metadata": {},
   "outputs": [],
   "source": [
    "y_pred = classifier.predict(X_test)"
   ]
  },
  {
   "cell_type": "code",
   "execution_count": 54,
   "metadata": {},
   "outputs": [
    {
     "name": "stdout",
     "output_type": "stream",
     "text": [
      "[[2153   89]\n",
      " [ 307  138]]\n",
      "              precision    recall  f1-score   support\n",
      "\n",
      "         0.0       0.88      0.96      0.92      2242\n",
      "         1.0       0.61      0.31      0.41       445\n",
      "\n",
      "    accuracy                           0.85      2687\n",
      "   macro avg       0.74      0.64      0.66      2687\n",
      "weighted avg       0.83      0.85      0.83      2687\n",
      "\n"
     ]
    }
   ],
   "source": [
    "from sklearn.metrics import classification_report, confusion_matrix\n",
    "print(confusion_matrix(y_test, y_pred))\n",
    "print(classification_report(y_test, y_pred))"
   ]
  },
  {
   "cell_type": "code",
   "execution_count": 55,
   "metadata": {},
   "outputs": [
    {
     "data": {
      "text/plain": [
       "KNeighborsClassifier(n_neighbors=10)"
      ]
     },
     "execution_count": 55,
     "metadata": {},
     "output_type": "execute_result"
    }
   ],
   "source": [
    "from sklearn.neighbors import KNeighborsClassifier\n",
    "classifier = KNeighborsClassifier(n_neighbors=10)\n",
    "classifier.fit(X_train, y_train)"
   ]
  },
  {
   "cell_type": "code",
   "execution_count": 56,
   "metadata": {},
   "outputs": [],
   "source": [
    "y_pred = classifier.predict(X_test)"
   ]
  },
  {
   "cell_type": "code",
   "execution_count": 58,
   "metadata": {},
   "outputs": [
    {
     "name": "stdout",
     "output_type": "stream",
     "text": [
      "[[1724  518]\n",
      " [ 178  267]]\n",
      "              precision    recall  f1-score   support\n",
      "\n",
      "         0.0       0.91      0.77      0.83      2242\n",
      "         1.0       0.34      0.60      0.43       445\n",
      "\n",
      "    accuracy                           0.74      2687\n",
      "   macro avg       0.62      0.68      0.63      2687\n",
      "weighted avg       0.81      0.74      0.77      2687\n",
      "\n"
     ]
    }
   ],
   "source": [
    "from sklearn.metrics import classification_report, confusion_matrix\n",
    "print(confusion_matrix(y_test, y_pred))\n",
    "print(classification_report(y_test, y_pred))"
   ]
  },
  {
   "cell_type": "code",
   "execution_count": 58,
   "metadata": {},
   "outputs": [
    {
     "name": "stdout",
     "output_type": "stream",
     "text": [
      "Fitting 3 folds for each of 80 candidates, totalling 240 fits\n"
     ]
    }
   ],
   "source": [
    "from sklearn.model_selection import GridSearchCV\n",
    "from sklearn.metrics import make_scorer\n",
    "\n",
    "scoring = {\"AUC\": \"roc_auc\", \"Accuracy\": make_scorer(accuracy_score)}\n",
    "\n",
    "# Setting refit='AUC', refits an estimator on the whole dataset with the\n",
    "# parameter setting that has the best cross-validated AUC score.\n",
    "# That estimator is made available at ``gs.best_estimator_`` along with\n",
    "# parameters like ``gs.best_score_``, ``gs.best_params_`` and\n",
    "# ``gs.best_index_``\n",
    "gs = GridSearchCV(\n",
    "    KNeighborsClassifier(),\n",
    "    param_grid={\"n_neighbors\": range(1, 21), \"weights\":[\"uniform\",\"distance\"], \"p\":[1, 2]},\n",
    "    scoring=scoring,\n",
    "    refit=\"AUC\",\n",
    "    return_train_score=True,\n",
    "    n_jobs = -1,\n",
    "    cv = 3,\n",
    "    verbose = 3\n",
    ")\n",
    "gs.fit(X_train, y_train)\n",
    "results = gs.cv_results_"
   ]
  },
  {
   "cell_type": "code",
   "execution_count": 59,
   "metadata": {},
   "outputs": [
    {
     "data": {
      "text/plain": [
       "{'n_neighbors': 6, 'p': 1, 'weights': 'distance'}"
      ]
     },
     "execution_count": 59,
     "metadata": {},
     "output_type": "execute_result"
    }
   ],
   "source": [
    "gs.best_params_"
   ]
  },
  {
   "cell_type": "code",
   "execution_count": 59,
   "metadata": {},
   "outputs": [
    {
     "data": {
      "text/plain": [
       "KNeighborsClassifier(p=1, weights='distance')"
      ]
     },
     "execution_count": 59,
     "metadata": {},
     "output_type": "execute_result"
    }
   ],
   "source": [
    "from sklearn.neighbors import KNeighborsClassifier\n",
    "classifier = KNeighborsClassifier(n_neighbors=5, p = 1, weights = \"distance\")\n",
    "classifier.fit(X_train, y_train)"
   ]
  },
  {
   "cell_type": "code",
   "execution_count": 60,
   "metadata": {},
   "outputs": [],
   "source": [
    "y_pred = classifier.predict(X_test)"
   ]
  },
  {
   "cell_type": "code",
   "execution_count": 61,
   "metadata": {},
   "outputs": [
    {
     "name": "stdout",
     "output_type": "stream",
     "text": [
      "[[1795  447]\n",
      " [ 207  238]]\n",
      "              precision    recall  f1-score   support\n",
      "\n",
      "         0.0       0.90      0.80      0.85      2242\n",
      "         1.0       0.35      0.53      0.42       445\n",
      "\n",
      "    accuracy                           0.76      2687\n",
      "   macro avg       0.62      0.67      0.63      2687\n",
      "weighted avg       0.81      0.76      0.78      2687\n",
      "\n"
     ]
    }
   ],
   "source": [
    "print(confusion_matrix(y_test, y_pred))\n",
    "print(classification_report(y_test, y_pred))"
   ]
  },
  {
   "cell_type": "code",
   "execution_count": 62,
   "metadata": {},
   "outputs": [
    {
     "data": {
      "text/plain": [
       "0.6677279515681224"
      ]
     },
     "execution_count": 62,
     "metadata": {},
     "output_type": "execute_result"
    }
   ],
   "source": [
    "roc_auc_score(y_test, y_pred)"
   ]
  },
  {
   "cell_type": "code",
   "execution_count": 63,
   "metadata": {},
   "outputs": [
    {
     "name": "stdout",
     "output_type": "stream",
     "text": [
      ">1 0.646 (0.011)\n",
      ">2 0.723 (0.014)\n",
      ">3 0.785 (0.013)\n",
      ">4 0.800 (0.011)\n",
      ">5 0.811 (0.010)\n",
      ">6 0.814 (0.010)\n",
      ">7 0.815 (0.014)\n",
      ">8 0.817 (0.011)\n",
      ">9 0.828 (0.011)\n",
      ">10 0.830 (0.011)\n",
      ">11 0.834 (0.012)\n",
      ">12 0.836 (0.012)\n",
      ">13 0.836 (0.011)\n",
      ">14 0.840 (0.010)\n",
      ">15 0.842 (0.010)\n",
      ">16 0.844 (0.010)\n",
      ">17 0.845 (0.012)\n",
      ">18 0.849 (0.011)\n",
      ">19 0.851 (0.011)\n",
      ">20 0.854 (0.011)\n",
      ">21 0.854 (0.011)\n",
      ">22 0.854 (0.011)\n",
      ">23 0.854 (0.010)\n",
      ">24 0.854 (0.010)\n",
      ">25 0.855 (0.010)\n",
      ">26 0.855 (0.010)\n",
      ">27 0.855 (0.010)\n",
      ">28 0.855 (0.010)\n",
      ">29 0.855 (0.010)\n",
      ">30 0.855 (0.010)\n"
     ]
    }
   ],
   "source": [
    "# get a list of models to evaluate\n",
    "def get_models():\n",
    "\tmodels = dict()\n",
    "\tfor i in range(1,31):\n",
    "\t\tsteps = [('pca', PCA(n_components=i)), ('m', KNeighborsClassifier(n_neighbors=5, p = 1, weights = \"distance\"))]\n",
    "\t\tmodels[str(i)] = Pipeline(steps=steps)\n",
    "\treturn models\n",
    "\n",
    "# evaluate a given model using cross-validation\n",
    "def evaluate_model(model, X, y):\n",
    "\tcv = RepeatedStratifiedKFold(n_splits=10, n_repeats=3, random_state=1)\n",
    "\tscores = cross_val_score(model, X, y, scoring='accuracy', cv=cv, n_jobs=-1, error_score='raise')\n",
    "\treturn scores\n",
    "# get the models to evaluate\n",
    "models = get_models()\n",
    "# evaluate the models and store results\n",
    "results, names = list(), list()\n",
    "for name, model in models.items():\n",
    "\tscores = evaluate_model(model, X_train, y_train)\n",
    "\tresults.append(scores)\n",
    "\tnames.append(name)\n",
    "\tprint('>%s %.3f (%.3f)' % (name, mean(scores), std(scores)))"
   ]
  },
  {
   "cell_type": "code",
   "execution_count": 64,
   "metadata": {},
   "outputs": [
    {
     "data": {
      "text/plain": [
       "0.6574607342962243"
      ]
     },
     "execution_count": 64,
     "metadata": {},
     "output_type": "execute_result"
    }
   ],
   "source": [
    "steps = [('pca', PCA(n_components=15)), ('m', KNeighborsClassifier(n_neighbors=5, p = 1, weights = \"distance\"))]\n",
    "model = Pipeline(steps=steps)\n",
    "model.fit(X_train, y_train)\n",
    "y_pred = model.predict(X_test)\n",
    "roc_auc_score(y_test, y_pred)"
   ]
  },
  {
   "cell_type": "markdown",
   "metadata": {},
   "source": [
    "All models perform similarly as they are based on the same platform, the knn. The main difference is in the optimization. Even the optimized models seem to not have much of an effect on the models accuracy on the test data, showing a better optimization algorithm is needed, potentially TPE algorithm."
   ]
  },
  {
   "cell_type": "code",
   "execution_count": 69,
   "metadata": {},
   "outputs": [],
   "source": [
    "from sklearn.model_selection import KFold, StratifiedKFold\n",
    "from sklearn.model_selection import cross_val_score\n",
    "import time\n",
    "seed = 0\n",
    "metric = 'accuracy'\n",
    "kFoldSplits = 5\n",
    "np.random.seed(seed)\n",
    "best_score=1.0\n",
    "def objective(space):\n",
    "    \n",
    "    global best_score\n",
    "    model = KNeighborsClassifier(**space)   \n",
    "    kfold = StratifiedKFold(n_splits=kFoldSplits, random_state=seed, shuffle=True) # KFold is also an option.\n",
    "    score = 1-cross_val_score(model, X_train, y_train, cv=kfold, scoring=metric, verbose=False).mean() \n",
    "    # Careful here (score). The objective function will be  minimized, thus somme treatment on your score might be needed.\n",
    "    \n",
    "    if (score < best_score):\n",
    "        best_score=score\n",
    "    \n",
    "    return score "
   ]
  },
  {
   "cell_type": "code",
   "execution_count": 72,
   "metadata": {},
   "outputs": [],
   "source": [
    "from hyperopt import hp, fmin, tpe, rand, STATUS_OK, Trials\n",
    "\n",
    "space = {\n",
    "      'n_neighbors': hp.choice('n_neighbors',  range(1, 21)),\n",
    "      'weights': hp.choice('weights',['uniform', 'distance']),\n",
    "      'metric':hp.choice('metrics', [\"manhattan\", \"euclidean\", \"minkowski\"])\n",
    "      }"
   ]
  },
  {
   "cell_type": "code",
   "execution_count": 73,
   "metadata": {},
   "outputs": [
    {
     "name": "stdout",
     "output_type": "stream",
     "text": [
      "100%|█████████████████████████████████████████████| 200/200 [05:11<00:00,  1.56s/trial, best loss: 0.11797323135755255]\n"
     ]
    }
   ],
   "source": [
    "n_iter_hopt = 200\n",
    "trials = Trials() # Initialize an empty trials database for further saving/loading ran iteractions\n",
    "\n",
    "start = time.time()\n",
    "\n",
    "best = fmin(objective, \n",
    "            space = space, \n",
    "            algo = tpe.suggest, \n",
    "            max_evals = n_iter_hopt,\n",
    "            trials = trials,\n",
    "            rstate = np.random.default_rng(seed))\n",
    "\n",
    "elapsed_time_hopt = time.time() - start"
   ]
  },
  {
   "cell_type": "code",
   "execution_count": 74,
   "metadata": {},
   "outputs": [
    {
     "name": "stdout",
     "output_type": "stream",
     "text": [
      "\n",
      "Hyperopt search took 311.04 seconds for 200 candidates. Accuracy reached: 88.203\n",
      "Optimal parameters found: {'metrics': 0, 'n_neighbors': 0, 'weights': 1}\n"
     ]
    }
   ],
   "source": [
    "print(\"\\nHyperopt search took %.2f seconds for %d candidates. Accuracy reached: %.3f\\nOptimal parameters found: %s\" % (elapsed_time_hopt, n_iter_hopt, ((1-best_score)*100), best))"
   ]
  },
  {
   "cell_type": "code",
   "execution_count": null,
   "metadata": {},
   "outputs": [],
   "source": []
  },
  {
   "cell_type": "markdown",
   "metadata": {
    "id": "U476YgyyLD4p"
   },
   "source": [
    "# 7. Naive Bayes\n",
    "<hr>\n",
    "<ol type=\"1\">\n",
    "  <li> Train a model with GaussianNB, test it and then print the confusion matrix and classification report. Also, plot ROC curve and show the AUC of ROC, and the <b>count of the number of misclassification.</b> </li>\n",
    "\n",
    "  <li> Train a model with CategoricalNB, test it and then print the confusion matrix and classification report. Also, plot ROC curve, and show the AUC of ROC and the <b>count of the number of misclassification.</b> </li>\n",
    "</ol>"
   ]
  },
  {
   "cell_type": "code",
   "execution_count": 141,
   "metadata": {},
   "outputs": [
    {
     "name": "stdout",
     "output_type": "stream",
     "text": [
      "[[1140 1102]\n",
      " [ 116  329]]\n",
      "              precision    recall  f1-score   support\n",
      "\n",
      "         0.0       0.91      0.51      0.65      2242\n",
      "         1.0       0.23      0.74      0.35       445\n",
      "\n",
      "    accuracy                           0.55      2687\n",
      "   macro avg       0.57      0.62      0.50      2687\n",
      "weighted avg       0.80      0.55      0.60      2687\n",
      "\n"
     ]
    }
   ],
   "source": [
    "from sklearn.naive_bayes import GaussianNB\n",
    "clf = GaussianNB()\n",
    "clf.fit(X_train, y_train)\n",
    "y_pred = clf.predict(X_test)\n",
    "print(confusion_matrix(y_test, y_pred))\n",
    "print(classification_report(y_test, y_pred))"
   ]
  },
  {
   "cell_type": "code",
   "execution_count": 142,
   "metadata": {},
   "outputs": [
    {
     "data": {
      "image/png": "[encoded data removed]",
      "text/plain": [
       "<Figure size 432x288 with 1 Axes>"
      ]
     },
     "metadata": {
      "needs_background": "light"
     },
     "output_type": "display_data"
    }
   ],
   "source": [
    "from sklearn.metrics import roc_curve\n",
    "fpr, tpr, thresholds = roc_curve(y_test, y_pred)\n",
    "def plot_roc_curve(fpr, tpr, label=None):\n",
    "    plt.plot(fpr, tpr, linewidth=2, label=label)\n",
    "    plt.plot([0, 1], [0, 1], 'k--') # dashed diagonal\n",
    " \n",
    "plot_roc_curve(fpr, tpr)\n",
    "\n",
    "plt.xlabel(\"False positive rate\")\n",
    "plt.ylabel(\"True positive rate (Recall)\")\n",
    "plt.show()"
   ]
  },
  {
   "cell_type": "code",
   "execution_count": 143,
   "metadata": {},
   "outputs": [
    {
     "data": {
      "text/plain": [
       "0.6239002094839079"
      ]
     },
     "execution_count": 143,
     "metadata": {},
     "output_type": "execute_result"
    }
   ],
   "source": [
    "from sklearn.metrics import roc_auc_score\n",
    "roc_auc_score(y_test, y_pred)"
   ]
  },
  {
   "cell_type": "code",
   "execution_count": 144,
   "metadata": {},
   "outputs": [
    {
     "name": "stdout",
     "output_type": "stream",
     "text": [
      "[[1902  340]\n",
      " [ 203  242]]\n",
      "              precision    recall  f1-score   support\n",
      "\n",
      "         0.0       0.90      0.85      0.88      2242\n",
      "         1.0       0.42      0.54      0.47       445\n",
      "\n",
      "    accuracy                           0.80      2687\n",
      "   macro avg       0.66      0.70      0.67      2687\n",
      "weighted avg       0.82      0.80      0.81      2687\n",
      "\n"
     ]
    }
   ],
   "source": [
    "from sklearn.naive_bayes import CategoricalNB\n",
    "clf = CategoricalNB()\n",
    "clf.fit(X_train, y_train)\n",
    "y_pred = clf.predict(X_test)\n",
    "print(confusion_matrix(y_test, y_pred))\n",
    "print(classification_report(y_test, y_pred))"
   ]
  },
  {
   "cell_type": "code",
   "execution_count": 145,
   "metadata": {},
   "outputs": [
    {
     "data": {
      "image/png": "[encoded data removed]",
      "text/plain": [
       "<Figure size 432x288 with 1 Axes>"
      ]
     },
     "metadata": {
      "needs_background": "light"
     },
     "output_type": "display_data"
    }
   ],
   "source": [
    "from sklearn.metrics import roc_curve\n",
    "fpr, tpr, thresholds = roc_curve(y_test, y_pred)\n",
    "def plot_roc_curve(fpr, tpr, label=None):\n",
    "    plt.plot(fpr, tpr, linewidth=2, label=label)\n",
    "    plt.plot([0, 1], [0, 1], 'k--') # dashed diagonal\n",
    " \n",
    "plot_roc_curve(fpr, tpr)\n",
    "\n",
    "plt.xlabel(\"False positive rate\")\n",
    "plt.ylabel(\"True positive rate (Recall)\")\n",
    "plt.show()"
   ]
  },
  {
   "cell_type": "code",
   "execution_count": 146,
   "metadata": {},
   "outputs": [
    {
     "data": {
      "text/plain": [
       "0.6960849562489351"
      ]
     },
     "execution_count": 146,
     "metadata": {},
     "output_type": "execute_result"
    }
   ],
   "source": [
    "from sklearn.metrics import roc_auc_score\n",
    "roc_auc_score(y_test, y_pred)"
   ]
  },
  {
   "cell_type": "markdown",
   "metadata": {},
   "source": [
    "### Count of the number of misclassification\n",
    "Gaussian = 1102 + 116 </br>\n",
    "Categorical = 340 + 203"
   ]
  },
  {
   "cell_type": "markdown",
   "metadata": {
    "id": "ejEPIhe0LEtX"
   },
   "source": [
    "# 8. Support Vector Machine \n",
    "<hr>\n",
    "<ol type=\"1\">\n",
    "  <li> Build a support vector machine model using SVC. Use grid search to tune some parameters and then based on that show the best parameters found. </li>\n",
    "\n",
    "  <li> Test the model and print the confusion matrix and classification report. Also, plot ROC curve and show the AUC of ROC, and the <b>count of the number of misclassification.</b> </li>\n",
    "</ol>"
   ]
  },
  {
   "cell_type": "code",
   "execution_count": 39,
   "metadata": {},
   "outputs": [],
   "source": [
    "from sklearn.svm import SVC\n",
    "import time"
   ]
  },
  {
   "cell_type": "code",
   "execution_count": 41,
   "metadata": {},
   "outputs": [],
   "source": [
    "from sklearn.model_selection import KFold, StratifiedKFold\n",
    "from sklearn.model_selection import cross_val_score\n",
    "seed = 0\n",
    "metric = 'accuracy'\n",
    "kFoldSplits = 5\n",
    "np.random.seed(seed)\n",
    "best_score=1.0\n",
    "def objective(space):\n",
    "    \n",
    "    global best_score\n",
    "    model = SVC(**space)   \n",
    "    kfold = StratifiedKFold(n_splits=kFoldSplits, random_state=seed, shuffle=True) # KFold is also an option.\n",
    "    score = 1-cross_val_score(model, X_train, y_train, cv=kfold, scoring=metric, verbose=False).mean() \n",
    "    # Careful here (score). The objective function will be  minimized, thus somme treatment on your score might be needed.\n",
    "    \n",
    "    if (score < best_score):\n",
    "        best_score=score\n",
    "    \n",
    "    return score "
   ]
  },
  {
   "cell_type": "code",
   "execution_count": 42,
   "metadata": {},
   "outputs": [],
   "source": [
    "from hyperopt import hp, fmin, tpe, rand, STATUS_OK, Trials\n",
    "\n",
    "space = {\n",
    "      'C': hp.choice('C',  [0.1,1, 10, 100]),\n",
    "      'kernel': hp.choice('kernel',['sigmoid', 'poly', 'rbf']),\n",
    "      'gamma':hp.choice('gamma',[1,0.1,0.01,0.001])\n",
    "      }"
   ]
  },
  {
   "cell_type": "code",
   "execution_count": 43,
   "metadata": {},
   "outputs": [
    {
     "name": "stdout",
     "output_type": "stream",
     "text": [
      "100%|█████████████████████████████████████████████████| 10/10 [02:09<00:00, 12.93s/trial, best loss: 0.258699808795411]\n"
     ]
    }
   ],
   "source": [
    "n_iter_hopt = 10\n",
    "trials = Trials() # Initialize an empty trials database for further saving/loading ran iteractions\n",
    "\n",
    "start = time.time()\n",
    "\n",
    "best = fmin(objective, \n",
    "            space = space, \n",
    "            algo = tpe.suggest, \n",
    "            max_evals = n_iter_hopt,\n",
    "            trials = trials,\n",
    "            rstate = np.random.default_rng(seed))\n",
    "\n",
    "elapsed_time_hopt = time.time() - start"
   ]
  },
  {
   "cell_type": "code",
   "execution_count": 44,
   "metadata": {},
   "outputs": [
    {
     "name": "stdout",
     "output_type": "stream",
     "text": [
      "\n",
      "Hyperopt search took 129.33 seconds for 10 candidates. Accuracy reached: 74.130\n",
      "Optimal parameters found: {'C': 1, 'gamma': 1, 'kernel': 1}\n"
     ]
    }
   ],
   "source": [
    "print(\"\\nHyperopt search took %.2f seconds for %d candidates. Accuracy reached: %.3f\\nOptimal parameters found: %s\" % (elapsed_time_hopt, n_iter_hopt, ((1-best_score)*100), best))"
   ]
  },
  {
   "cell_type": "markdown",
   "metadata": {},
   "source": [
    "Ideally you'd want to run this 100 times to get a full spread."
   ]
  },
  {
   "cell_type": "code",
   "execution_count": 105,
   "metadata": {},
   "outputs": [
    {
     "data": {
      "text/plain": [
       "SVC(C=1, gamma=0.1, kernel='poly')"
      ]
     },
     "execution_count": 105,
     "metadata": {},
     "output_type": "execute_result"
    }
   ],
   "source": [
    "model = SVC(C = 1, gamma = 0.1, kernel = \"poly\")\n",
    "model.fit(X_train,y_train)"
   ]
  },
  {
   "cell_type": "code",
   "execution_count": 106,
   "metadata": {},
   "outputs": [],
   "source": [
    "y_pred = model.predict(X_test)"
   ]
  },
  {
   "cell_type": "code",
   "execution_count": 107,
   "metadata": {},
   "outputs": [
    {
     "name": "stdout",
     "output_type": "stream",
     "text": [
      "[[1908  334]\n",
      " [ 182  263]]\n",
      "              precision    recall  f1-score   support\n",
      "\n",
      "         0.0       0.91      0.85      0.88      2242\n",
      "         1.0       0.44      0.59      0.50       445\n",
      "\n",
      "    accuracy                           0.81      2687\n",
      "   macro avg       0.68      0.72      0.69      2687\n",
      "weighted avg       0.83      0.81      0.82      2687\n",
      "\n"
     ]
    }
   ],
   "source": [
    "from sklearn.metrics import classification_report, confusion_matrix\n",
    "print(confusion_matrix(y_test, y_pred))\n",
    "print(classification_report(y_test, y_pred))"
   ]
  },
  {
   "cell_type": "markdown",
   "metadata": {},
   "source": [
    "Number of miscalculation = 334 + 182"
   ]
  },
  {
   "cell_type": "markdown",
   "metadata": {
    "id": "TGBNuntkLINq"
   },
   "source": [
    "# 9. Decision Tree \n",
    "<hr>\n",
    "<ol type=\"1\">\n",
    "  <li> Build a decision tree model using sklearns DecisionTreeClassifier. Use the unbalanced training set, entropy as the criterion. Try with different max_depth (or use grid search). After building model, test it and print the confusion matrix and classification report. Also, plot ROC curve and show the AUC of ROC, and the <b> count of the number of misclassification. Show the decision tree. (you can simply import tree from sklearn and call tree.plot_tree with your model and the call plt.show. At the beginning of this process, use plt.figure to change the figsize) </b> </li>\n",
    "\n",
    "  <li> Perform the same tasks as 9.1 with the balanced training set </li>\n",
    "  <li> Discuss any difference and also discuss part of the tree of 9.2 </li> \n",
    "</ol>"
   ]
  },
  {
   "cell_type": "code",
   "execution_count": 83,
   "metadata": {},
   "outputs": [],
   "source": [
    "from sklearn.tree import DecisionTreeClassifier\n",
    "def objective(space):\n",
    "    \n",
    "    global best_score\n",
    "    model = DecisionTreeClassifier(**space)   \n",
    "    kfold = StratifiedKFold(n_splits=kFoldSplits, random_state=seed, shuffle=True) # KFold is also an option.\n",
    "    score = 1-cross_val_score(model, X_unbalanced_train, y_unbalanced_train, cv=kfold, scoring=metric, verbose=False).mean() \n",
    "    # Careful here (score). The objective function will be  minimized, thus somme treatment on your score might be needed.\n",
    "    \n",
    "    if (score < best_score):\n",
    "        best_score=score\n",
    "    \n",
    "    return score "
   ]
  },
  {
   "cell_type": "code",
   "execution_count": 117,
   "metadata": {},
   "outputs": [],
   "source": [
    "space = {\n",
    "      'criterion': \"entropy\",\n",
    "        \"max_depth\": hp.choice(\"max_depth\", range(1,51))\n",
    "      }"
   ]
  },
  {
   "cell_type": "code",
   "execution_count": 85,
   "metadata": {},
   "outputs": [
    {
     "name": "stdout",
     "output_type": "stream",
     "text": [
      "100%|█████████████████████████████████████████████| 200/200 [00:15<00:00, 12.62trial/s, best loss: 0.13608920727415286]\n"
     ]
    }
   ],
   "source": [
    "n_iter_hopt = 200\n",
    "trials = Trials() # Initialize an empty trials database for further saving/loading ran iteractions\n",
    "\n",
    "start = time.time()\n",
    "\n",
    "best = fmin(objective, \n",
    "            space = space, \n",
    "            algo = tpe.suggest, \n",
    "            max_evals = n_iter_hopt,\n",
    "            trials = trials,\n",
    "            rstate = np.random.default_rng(seed))\n",
    "\n",
    "elapsed_time_hopt = time.time() - start"
   ]
  },
  {
   "cell_type": "code",
   "execution_count": 86,
   "metadata": {},
   "outputs": [
    {
     "name": "stdout",
     "output_type": "stream",
     "text": [
      "\n",
      "Hyperopt search on unbalanced data took 15.85 seconds for 200 candidates. Accuracy reached: 86.391\n",
      "Optimal parameters found: {'max_depth': 2}\n"
     ]
    }
   ],
   "source": [
    "print(\"\\nHyperopt search on unbalanced data took %.2f seconds for %d candidates. Accuracy reached: %.3f\\nOptimal parameters found: %s\" % (elapsed_time_hopt, n_iter_hopt, ((1-best_score)*100), best))"
   ]
  },
  {
   "cell_type": "code",
   "execution_count": 87,
   "metadata": {},
   "outputs": [],
   "source": [
    "model = DecisionTreeClassifier(criterion = \"entropy\", max_depth = 2)\n",
    "model.fit(X_unbalanced_train, y_unbalanced_train)\n",
    "y_pred = model.predict(X_test)"
   ]
  },
  {
   "cell_type": "code",
   "execution_count": 88,
   "metadata": {},
   "outputs": [
    {
     "name": "stdout",
     "output_type": "stream",
     "text": [
      "[[2071  171]\n",
      " [ 205  240]]\n",
      "              precision    recall  f1-score   support\n",
      "\n",
      "         0.0       0.91      0.92      0.92      2242\n",
      "         1.0       0.58      0.54      0.56       445\n",
      "\n",
      "    accuracy                           0.86      2687\n",
      "   macro avg       0.75      0.73      0.74      2687\n",
      "weighted avg       0.86      0.86      0.86      2687\n",
      "\n"
     ]
    }
   ],
   "source": [
    "from sklearn.metrics import classification_report, confusion_matrix\n",
    "print(confusion_matrix(y_test, y_pred))\n",
    "print(classification_report(y_test, y_pred))"
   ]
  },
  {
   "cell_type": "markdown",
   "metadata": {},
   "source": [
    "Missclassification = 171 + 205"
   ]
  },
  {
   "cell_type": "code",
   "execution_count": 90,
   "metadata": {},
   "outputs": [
    {
     "data": {
      "image/png": "[encoded data removed]",
      "text/plain": [
       "<Figure size 432x288 with 1 Axes>"
      ]
     },
     "metadata": {
      "needs_background": "light"
     },
     "output_type": "display_data"
    }
   ],
   "source": [
    "from sklearn.metrics import roc_curve\n",
    "fpr, tpr, thresholds = roc_curve(y_test, y_pred)\n",
    "def plot_roc_curve(fpr, tpr, label=None):\n",
    "    plt.plot(fpr, tpr, linewidth=2, label=label)\n",
    "    plt.plot([0, 1], [0, 1], 'k--') # dashed diagonal\n",
    " \n",
    "plot_roc_curve(fpr, tpr)\n",
    "\n",
    "plt.xlabel(\"False positive rate\")\n",
    "plt.ylabel(\"True positive rate (Recall)\")\n",
    "plt.show()"
   ]
  },
  {
   "cell_type": "code",
   "execution_count": 91,
   "metadata": {},
   "outputs": [
    {
     "data": {
      "text/plain": [
       "0.7315273281279756"
      ]
     },
     "execution_count": 91,
     "metadata": {},
     "output_type": "execute_result"
    }
   ],
   "source": [
    "from sklearn.metrics import roc_auc_score\n",
    "roc_auc_score(y_test, y_pred)"
   ]
  },
  {
   "cell_type": "code",
   "execution_count": 118,
   "metadata": {},
   "outputs": [],
   "source": [
    "from sklearn.tree import DecisionTreeClassifier\n",
    "def objective(space):\n",
    "    \n",
    "    global best_score\n",
    "    model = DecisionTreeClassifier(**space)   \n",
    "    kfold = StratifiedKFold(n_splits=kFoldSplits, random_state=seed, shuffle=True) # KFold is also an option.\n",
    "    score = 1-cross_val_score(model, X_train, y_train, cv=kfold, scoring=metric, verbose=False).mean() \n",
    "    # Careful here (score). The objective function will be  minimized, thus somme treatment on your score might be needed.\n",
    "    \n",
    "    if (score < best_score):\n",
    "        best_score=score\n",
    "    \n",
    "    return score "
   ]
  },
  {
   "cell_type": "code",
   "execution_count": 119,
   "metadata": {},
   "outputs": [
    {
     "name": "stdout",
     "output_type": "stream",
     "text": [
      "100%|██████████████████████████████████████████████| 200/200 [00:36<00:00,  5.55trial/s, best loss: 0.1605162523900573]\n"
     ]
    }
   ],
   "source": [
    "n_iter_hopt = 200\n",
    "trials = Trials() # Initialize an empty trials database for further saving/loading ran iteractions\n",
    "\n",
    "start = time.time()\n",
    "\n",
    "best = fmin(objective, \n",
    "            space = space, \n",
    "            algo = tpe.suggest, \n",
    "            max_evals = n_iter_hopt,\n",
    "            trials = trials,\n",
    "            rstate = np.random.default_rng(seed))\n",
    "\n",
    "elapsed_time_hopt = time.time() - start"
   ]
  },
  {
   "cell_type": "code",
   "execution_count": 120,
   "metadata": {},
   "outputs": [
    {
     "name": "stdout",
     "output_type": "stream",
     "text": [
      "\n",
      "Hyperopt search on balanced data took 36.11 seconds for 200 candidates. Accuracy reached: 86.391\n",
      "Optimal parameters found: {'max_depth': 33}\n"
     ]
    }
   ],
   "source": [
    "print(\"\\nHyperopt search on balanced data took %.2f seconds for %d candidates. Accuracy reached: %.3f\\nOptimal parameters found: %s\" % (elapsed_time_hopt, n_iter_hopt, ((1-best_score)*100), best))"
   ]
  },
  {
   "cell_type": "code",
   "execution_count": 125,
   "metadata": {},
   "outputs": [],
   "source": [
    "model = DecisionTreeClassifier(criterion = \"entropy\", max_depth = 34)\n",
    "model.fit(X_train, y_train)\n",
    "y_pred = model.predict(X_test)"
   ]
  },
  {
   "cell_type": "code",
   "execution_count": 126,
   "metadata": {},
   "outputs": [
    {
     "name": "stdout",
     "output_type": "stream",
     "text": [
      "[[1890  352]\n",
      " [ 258  187]]\n",
      "              precision    recall  f1-score   support\n",
      "\n",
      "         0.0       0.88      0.84      0.86      2242\n",
      "         1.0       0.35      0.42      0.38       445\n",
      "\n",
      "    accuracy                           0.77      2687\n",
      "   macro avg       0.61      0.63      0.62      2687\n",
      "weighted avg       0.79      0.77      0.78      2687\n",
      "\n"
     ]
    }
   ],
   "source": [
    "from sklearn.metrics import classification_report, confusion_matrix\n",
    "print(confusion_matrix(y_test, y_pred))\n",
    "print(classification_report(y_test, y_pred))"
   ]
  },
  {
   "cell_type": "markdown",
   "metadata": {},
   "source": [
    "Misclassification = 352 + 258"
   ]
  },
  {
   "cell_type": "code",
   "execution_count": 127,
   "metadata": {},
   "outputs": [
    {
     "data": {
      "image/png": "[encoded data removed]",
      "text/plain": [
       "<Figure size 432x288 with 1 Axes>"
      ]
     },
     "metadata": {
      "needs_background": "light"
     },
     "output_type": "display_data"
    }
   ],
   "source": [
    "from sklearn.metrics import roc_curve\n",
    "fpr, tpr, thresholds = roc_curve(y_test, y_pred)\n",
    "def plot_roc_curve(fpr, tpr, label=None):\n",
    "    plt.plot(fpr, tpr, linewidth=2, label=label)\n",
    "    plt.plot([0, 1], [0, 1], 'k--') # dashed diagonal\n",
    " \n",
    "plot_roc_curve(fpr, tpr)\n",
    "\n",
    "plt.xlabel(\"False positive rate\")\n",
    "plt.ylabel(\"True positive rate (Recall)\")\n",
    "plt.show()"
   ]
  },
  {
   "cell_type": "code",
   "execution_count": 128,
   "metadata": {},
   "outputs": [
    {
     "data": {
      "text/plain": [
       "0.6316110214595716"
      ]
     },
     "execution_count": 128,
     "metadata": {},
     "output_type": "execute_result"
    }
   ],
   "source": [
    "from sklearn.metrics import roc_auc_score\n",
    "roc_auc_score(y_test, y_pred)"
   ]
  },
  {
   "cell_type": "markdown",
   "metadata": {},
   "source": [
    "This difference in acuracy could be due to the imbalance present in the testing set not present in the training set as it was ballanced. This could impair the model learning from the instances that are more common."
   ]
  },
  {
   "cell_type": "markdown",
   "metadata": {
    "id": "VjVFpk61LJRq"
   },
   "source": [
    "# 10. Random Forest \n",
    "<hr>\n",
    "<ol type=\"1\">\n",
    "  <li> Use grid search to tune the max_depth, min_samples_leaf, and n_estimators  (<a href=\"https://www.analyticsvidhya.com/blog/2021/06/understanding-random-forest/\">helpful link</a>)\n",
    "  [it may take about 5 minutes.] </li>\n",
    "\n",
    "  <li> Print the best estimator. </li>\n",
    "  <li> Train the model. After building the model, test it and print the confusion matrix and classification report. Also, plot ROC curve and show the AUC of ROC, and the count of the number of misclassification. </li> \n",
    "</ol>"
   ]
  },
  {
   "cell_type": "code",
   "execution_count": 98,
   "metadata": {},
   "outputs": [],
   "source": [
    "from sklearn.ensemble import RandomForestClassifier\n",
    "def objective(space):\n",
    "    \n",
    "    global best_score\n",
    "    model = RandomForestClassifier(**space)   \n",
    "    kfold = StratifiedKFold(n_splits=kFoldSplits, random_state=seed, shuffle=True) # KFold is also an option.\n",
    "    score = 1-cross_val_score(model, X_train, y_train, cv=kfold, scoring=metric, verbose=False).mean() \n",
    "    # Careful here (score). The objective function will be  minimized, thus somme treatment on your score might be needed.\n",
    "    \n",
    "    if (score < best_score):\n",
    "        best_score=score\n",
    "    \n",
    "    return score "
   ]
  },
  {
   "cell_type": "code",
   "execution_count": 100,
   "metadata": {},
   "outputs": [],
   "source": [
    "space = {\n",
    "        \"max_depth\": hp.choice(\"max_depth\", [2,3,5,10,20]),\n",
    "    \"min_samples_leaf\": hp.choice(\"min_samples_leaf\", [5,10,20,50,100,200]),\n",
    "    \"n_estimators\": hp.choice(\"n_estimators\", [10,25,30,50,100,200])\n",
    "      }"
   ]
  },
  {
   "cell_type": "code",
   "execution_count": 103,
   "metadata": {},
   "outputs": [
    {
     "name": "stdout",
     "output_type": "stream",
     "text": [
      "100%|███████████████████████████████████████████████| 50/50 [01:24<00:00,  1.68s/trial, best loss: 0.13910133843212225]\n"
     ]
    }
   ],
   "source": [
    "n_iter_hopt = 50\n",
    "trials = Trials() # Initialize an empty trials database for further saving/loading ran iteractions\n",
    "\n",
    "start = time.time()\n",
    "\n",
    "best = fmin(objective, \n",
    "            space = space, \n",
    "            algo = tpe.suggest, \n",
    "            max_evals = n_iter_hopt,\n",
    "            trials = trials,\n",
    "            rstate = np.random.default_rng(seed))\n",
    "\n",
    "elapsed_time_hopt = time.time() - start"
   ]
  },
  {
   "cell_type": "code",
   "execution_count": 104,
   "metadata": {},
   "outputs": [
    {
     "name": "stdout",
     "output_type": "stream",
     "text": [
      "\n",
      "Hyperopt search took 84.24 seconds for 50 candidates. Accuracy reached: 86.391\n",
      "Optimal parameters found: {'max_depth': 4, 'min_samples_leaf': 0, 'n_estimators': 5}\n"
     ]
    }
   ],
   "source": [
    "print(\"\\nHyperopt search took %.2f seconds for %d candidates. Accuracy reached: %.3f\\nOptimal parameters found: %s\" % (elapsed_time_hopt, n_iter_hopt, ((1-best_score)*100), best))"
   ]
  },
  {
   "cell_type": "code",
   "execution_count": 108,
   "metadata": {},
   "outputs": [],
   "source": [
    "model = RandomForestClassifier(max_depth = 20, min_samples_leaf = 5, n_estimators =200)\n",
    "model.fit(X_train, y_train)\n",
    "y_pred = model.predict(X_test)"
   ]
  },
  {
   "cell_type": "code",
   "execution_count": 111,
   "metadata": {},
   "outputs": [
    {
     "name": "stdout",
     "output_type": "stream",
     "text": [
      "[[2047  195]\n",
      " [ 204  241]]\n",
      "              precision    recall  f1-score   support\n",
      "\n",
      "         0.0       0.91      0.91      0.91      2242\n",
      "         1.0       0.55      0.54      0.55       445\n",
      "\n",
      "    accuracy                           0.85      2687\n",
      "   macro avg       0.73      0.73      0.73      2687\n",
      "weighted avg       0.85      0.85      0.85      2687\n",
      "\n"
     ]
    }
   ],
   "source": [
    "from sklearn.metrics import classification_report, confusion_matrix\n",
    "print(confusion_matrix(y_test, y_pred))\n",
    "print(classification_report(y_test, y_pred))"
   ]
  },
  {
   "cell_type": "code",
   "execution_count": 109,
   "metadata": {},
   "outputs": [
    {
     "data": {
      "image/png": "[encoded data removed]",
      "text/plain": [
       "<Figure size 432x288 with 1 Axes>"
      ]
     },
     "metadata": {
      "needs_background": "light"
     },
     "output_type": "display_data"
    }
   ],
   "source": [
    "from sklearn.metrics import roc_curve\n",
    "fpr, tpr, thresholds = roc_curve(y_test, y_pred)\n",
    "def plot_roc_curve(fpr, tpr, label=None):\n",
    "    plt.plot(fpr, tpr, linewidth=2, label=label)\n",
    "    plt.plot([0, 1], [0, 1], 'k--') # dashed diagonal\n",
    " \n",
    "plot_roc_curve(fpr, tpr)\n",
    "\n",
    "plt.xlabel(\"False positive rate\")\n",
    "plt.ylabel(\"True positive rate (Recall)\")\n",
    "plt.show()"
   ]
  },
  {
   "cell_type": "code",
   "execution_count": 110,
   "metadata": {},
   "outputs": [
    {
     "data": {
      "text/plain": [
       "0.7272985596728442"
      ]
     },
     "execution_count": 110,
     "metadata": {},
     "output_type": "execute_result"
    }
   ],
   "source": [
    "from sklearn.metrics import roc_auc_score\n",
    "roc_auc_score(y_test, y_pred)"
   ]
  },
  {
   "cell_type": "markdown",
   "metadata": {},
   "source": [
    "Misclassification = 195 + 204"
   ]
  },
  {
   "cell_type": "markdown",
   "metadata": {
    "id": "28Yi3kCVLKm7"
   },
   "source": [
    "# 11. Boosting Algorithms\n",
    "<hr>\n",
    "<ol type=\"1\">\n",
    "  <li> Train an AdaBoostClassifier model with some manual/grid search-based parameters and then test it and then print the confusion matrix and classification report. Also, plot ROC curve and show the AUC of ROC, and the <b> count of the number of misclassification. </b> </li>\n",
    "\n",
    "  <li> <b> Do the same for Gradient BoostingClassifier <br>\n",
    "  Helpful links: </b>\n",
    "  <a href=\"https://www.analyticsvidhya.com/blog/2015/11/quick-introduction-boosting-algorithms-machine-learning/#:~:text=Types%20of%20Boosting%20Algorithms&text=AdaBoost%20(Adaptive%20Boosting),XGBoost\">Help Link</a>\n",
    "   <br> \n",
    "\n",
    "  <b> Another link:</b> <a href=\"https://www.machinelearningplus.com/machine-learning/an-introduction-to-gradient-boosting-decision-trees/\">Another help link</a>\n",
    "  </li>\n",
    "</ol>\n",
    "\n"
   ]
  },
  {
   "cell_type": "code",
   "execution_count": 129,
   "metadata": {},
   "outputs": [],
   "source": [
    "from sklearn.ensemble import AdaBoostClassifier\n",
    "def objective(space):\n",
    "    \n",
    "    global best_score\n",
    "    model = AdaBoostClassifier(**space)   \n",
    "    kfold = StratifiedKFold(n_splits=kFoldSplits, random_state=seed, shuffle=True) # KFold is also an option.\n",
    "    score = 1-cross_val_score(model, X_train, y_train, cv=kfold, scoring=metric, verbose=False).mean() \n",
    "    # Careful here (score). The objective function will be  minimized, thus somme treatment on your score might be needed.\n",
    "    \n",
    "    if (score < best_score):\n",
    "        best_score=score\n",
    "    \n",
    "    return score "
   ]
  },
  {
   "cell_type": "code",
   "execution_count": 130,
   "metadata": {},
   "outputs": [],
   "source": [
    "space = {\n",
    "    \"n_estimators\": hp.choice(\"n_estimators\", np.arange(25,100,5)),\n",
    "    \"learning_rate\": hp.choice(\"learning_rate\", np.round(np.arange(0.005,0.3,0.01),5))\n",
    "      }"
   ]
  },
  {
   "cell_type": "code",
   "execution_count": 132,
   "metadata": {},
   "outputs": [
    {
     "name": "stdout",
     "output_type": "stream",
     "text": [
      "100%|███████████████████████████████████████████████| 50/50 [01:22<00:00,  1.65s/trial, best loss: 0.19847036328871892]\n"
     ]
    }
   ],
   "source": [
    "n_iter_hopt = 50\n",
    "trials = Trials() # Initialize an empty trials database for further saving/loading ran iteractions\n",
    "\n",
    "start = time.time()\n",
    "\n",
    "best = fmin(objective, \n",
    "            space = space, \n",
    "            algo = tpe.suggest, \n",
    "            max_evals = n_iter_hopt,\n",
    "            trials = trials,\n",
    "            rstate = np.random.default_rng(seed))\n",
    "\n",
    "elapsed_time_hopt = time.time() - start"
   ]
  },
  {
   "cell_type": "code",
   "execution_count": 133,
   "metadata": {},
   "outputs": [
    {
     "name": "stdout",
     "output_type": "stream",
     "text": [
      "\n",
      "Hyperopt search took 82.70 seconds for 50 candidates. Accuracy reached: 86.391\n",
      "Optimal parameters found: {'learning_rate': 28, 'n_estimators': 14}\n"
     ]
    }
   ],
   "source": [
    "print(\"\\nHyperopt search took %.2f seconds for %d candidates. Accuracy reached: %.3f\\nOptimal parameters found: %s\" % (elapsed_time_hopt, n_iter_hopt, ((1-best_score)*100), best))"
   ]
  },
  {
   "cell_type": "code",
   "execution_count": 137,
   "metadata": {},
   "outputs": [],
   "source": [
    "model = AdaBoostClassifier(learning_rate = np.round(np.arange(0.005,0.3,0.01),5)[28], n_estimators = np.arange(25,100,5)[14])\n",
    "model.fit(X_train,y_train)\n",
    "y_pred = model.predict(X_test)"
   ]
  },
  {
   "cell_type": "code",
   "execution_count": 138,
   "metadata": {},
   "outputs": [
    {
     "name": "stdout",
     "output_type": "stream",
     "text": [
      "[[2036  206]\n",
      " [ 201  244]]\n",
      "              precision    recall  f1-score   support\n",
      "\n",
      "         0.0       0.91      0.91      0.91      2242\n",
      "         1.0       0.54      0.55      0.55       445\n",
      "\n",
      "    accuracy                           0.85      2687\n",
      "   macro avg       0.73      0.73      0.73      2687\n",
      "weighted avg       0.85      0.85      0.85      2687\n",
      "\n"
     ]
    }
   ],
   "source": [
    "from sklearn.metrics import classification_report, confusion_matrix\n",
    "print(confusion_matrix(y_test, y_pred))\n",
    "print(classification_report(y_test, y_pred))"
   ]
  },
  {
   "cell_type": "markdown",
   "metadata": {},
   "source": [
    "Number Misclassification = 206 + 201"
   ]
  },
  {
   "cell_type": "code",
   "execution_count": 139,
   "metadata": {},
   "outputs": [
    {
     "data": {
      "image/png": "[encoded data removed]",
      "text/plain": [
       "<Figure size 432x288 with 1 Axes>"
      ]
     },
     "metadata": {
      "needs_background": "light"
     },
     "output_type": "display_data"
    }
   ],
   "source": [
    "from sklearn.metrics import roc_curve\n",
    "fpr, tpr, thresholds = roc_curve(y_test, y_pred)\n",
    "def plot_roc_curve(fpr, tpr, label=None):\n",
    "    plt.plot(fpr, tpr, linewidth=2, label=label)\n",
    "    plt.plot([0, 1], [0, 1], 'k--') # dashed diagonal\n",
    " \n",
    "plot_roc_curve(fpr, tpr)\n",
    "\n",
    "plt.xlabel(\"False positive rate\")\n",
    "plt.ylabel(\"True positive rate (Recall)\")\n",
    "plt.show()"
   ]
  },
  {
   "cell_type": "code",
   "execution_count": 140,
   "metadata": {},
   "outputs": [
    {
     "data": {
      "text/plain": [
       "0.7282161793743547"
      ]
     },
     "execution_count": 140,
     "metadata": {},
     "output_type": "execute_result"
    }
   ],
   "source": [
    "from sklearn.metrics import roc_auc_score\n",
    "roc_auc_score(y_test, y_pred)"
   ]
  },
  {
   "cell_type": "code",
   "execution_count": 153,
   "metadata": {},
   "outputs": [],
   "source": [
    "space={\n",
    "            'max_depth': hp.choice('x_max_depth',[2,3,4,5,6]),\n",
    "            'learning_rate':hp.choice('x_learning_rate',np.round(np.arange(0.005,0.3,0.01),5)),\n",
    "            'subsample':hp.choice('x_subsample',np.round(np.arange(0.1,1.0,0.05),5)),\n",
    "            'n_estimators':hp.choice('x_n_estimators',np.arange(25,100,5))\n",
    "            }"
   ]
  },
  {
   "cell_type": "code",
   "execution_count": 156,
   "metadata": {},
   "outputs": [],
   "source": [
    "from sklearn.ensemble import GradientBoostingClassifier\n",
    "def objective(space):\n",
    "    \n",
    "    global best_score\n",
    "    model = GradientBoostingClassifier(**space)   \n",
    "    kfold = StratifiedKFold(n_splits=kFoldSplits, random_state=seed, shuffle=True) # KFold is also an option.\n",
    "    score = 1-cross_val_score(model, X_train, y_train, cv=kfold, scoring=metric, verbose=False).mean() \n",
    "    # Careful here (score). The objective function will be  minimized, thus somme treatment on your score might be needed.\n",
    "    \n",
    "    if (score < best_score):\n",
    "        best_score=score\n",
    "    \n",
    "    return score "
   ]
  },
  {
   "cell_type": "code",
   "execution_count": 157,
   "metadata": {},
   "outputs": [
    {
     "name": "stdout",
     "output_type": "stream",
     "text": [
      "100%|███████████████████████████████████████████████| 50/50 [02:14<00:00,  2.69s/trial, best loss: 0.09235181644359469]\n"
     ]
    }
   ],
   "source": [
    "n_iter_hopt = 50\n",
    "trials = Trials() # Initialize an empty trials database for further saving/loading ran iteractions\n",
    "\n",
    "start = time.time()\n",
    "\n",
    "best = fmin(objective, \n",
    "            space = space, \n",
    "            algo = tpe.suggest, \n",
    "            max_evals = n_iter_hopt,\n",
    "            trials = trials,\n",
    "            rstate = np.random.default_rng(seed))\n",
    "\n",
    "elapsed_time_hopt = time.time() - start"
   ]
  },
  {
   "cell_type": "code",
   "execution_count": 158,
   "metadata": {},
   "outputs": [
    {
     "name": "stdout",
     "output_type": "stream",
     "text": [
      "\n",
      "Hyperopt search took 134.65 seconds for 50 candidates. Accuracy reached: 90.765\n",
      "Optimal parameters found: {'x_learning_rate': 20, 'x_max_depth': 4, 'x_n_estimators': 11, 'x_subsample': 17}\n"
     ]
    }
   ],
   "source": [
    "print(\"\\nHyperopt search took %.2f seconds for %d candidates. Accuracy reached: %.3f\\nOptimal parameters found: %s\" % (elapsed_time_hopt, n_iter_hopt, ((1-best_score)*100), best))"
   ]
  },
  {
   "cell_type": "code",
   "execution_count": 161,
   "metadata": {},
   "outputs": [],
   "source": [
    "model = GradientBoostingClassifier(learning_rate = np.round(np.arange(0.005,0.3,0.01),5)[20], max_depth = 6, subsample = np.round(np.arange(0.1,1.0,0.05),5)[17], n_estimators = np.arange(25,100,5)[11])\n",
    "model.fit(X_train, y_train)\n",
    "y_pred = model.predict(X_test)"
   ]
  },
  {
   "cell_type": "code",
   "execution_count": 162,
   "metadata": {},
   "outputs": [
    {
     "name": "stdout",
     "output_type": "stream",
     "text": [
      "[[2089  153]\n",
      " [ 262  183]]\n",
      "              precision    recall  f1-score   support\n",
      "\n",
      "         0.0       0.89      0.93      0.91      2242\n",
      "         1.0       0.54      0.41      0.47       445\n",
      "\n",
      "    accuracy                           0.85      2687\n",
      "   macro avg       0.72      0.67      0.69      2687\n",
      "weighted avg       0.83      0.85      0.84      2687\n",
      "\n"
     ]
    }
   ],
   "source": [
    "from sklearn.metrics import classification_report, confusion_matrix\n",
    "print(confusion_matrix(y_test, y_pred))\n",
    "print(classification_report(y_test, y_pred))"
   ]
  },
  {
   "cell_type": "markdown",
   "metadata": {},
   "source": [
    "Number Misclassification = 153 + 262"
   ]
  },
  {
   "cell_type": "code",
   "execution_count": 163,
   "metadata": {},
   "outputs": [
    {
     "data": {
      "image/png": "[encoded data removed]",
      "text/plain": [
       "<Figure size 432x288 with 1 Axes>"
      ]
     },
     "metadata": {
      "needs_background": "light"
     },
     "output_type": "display_data"
    }
   ],
   "source": [
    "from sklearn.metrics import roc_curve\n",
    "fpr, tpr, thresholds = roc_curve(y_test, y_pred)\n",
    "def plot_roc_curve(fpr, tpr, label=None):\n",
    "    plt.plot(fpr, tpr, linewidth=2, label=label)\n",
    "    plt.plot([0, 1], [0, 1], 'k--') # dashed diagonal\n",
    " \n",
    "plot_roc_curve(fpr, tpr)\n",
    "\n",
    "plt.xlabel(\"False positive rate\")\n",
    "plt.ylabel(\"True positive rate (Recall)\")\n",
    "plt.show()"
   ]
  },
  {
   "cell_type": "code",
   "execution_count": 164,
   "metadata": {},
   "outputs": [
    {
     "data": {
      "text/plain": [
       "0.6714966572783129"
      ]
     },
     "execution_count": 164,
     "metadata": {},
     "output_type": "execute_result"
    }
   ],
   "source": [
    "from sklearn.metrics import roc_auc_score\n",
    "roc_auc_score(y_test, y_pred)"
   ]
  },
  {
   "cell_type": "markdown",
   "metadata": {
    "id": "4o3XaCOaLKjU"
   },
   "source": [
    "# 12. Final Discussion\n",
    "<hr>\n",
    "\n",
    "Finally, briefly discuss your finding such as which model could be most suitable for this given scenario and what could be your future work based on this experiment."
   ]
  },
  {
   "cell_type": "markdown",
   "metadata": {},
   "source": [
    "Based on AUC ROC score, Logistic regression seems to be the best model. Potential future work could include deep learning on the unballanced dataset. Use of Gaussian optimization as used for some examples would also replace the inefficient grid search"
   ]
  },
  {
   "cell_type": "markdown",
   "metadata": {},
   "source": [
    "![Based](Based.png)"
   ]
  },
  {
   "cell_type": "code",
   "execution_count": null,
   "metadata": {},
   "outputs": [],
   "source": []
  }
 ],
 "metadata": {
  "colab": {
   "collapsed_sections": [],
   "name": "A3-Template.ipynb",
   "provenance": []
  },
  "kernelspec": {
   "display_name": "Python 3 (ipykernel)",
   "language": "python",
   "name": "python3"
  },
  "language_info": {
   "codemirror_mode": {
    "name": "ipython",
    "version": 3
   },
   "file_extension": ".py",
   "mimetype": "text/x-python",
   "name": "python",
   "nbconvert_exporter": "python",
   "pygments_lexer": "ipython3",
   "version": "3.9.7"
  }
 },
 "nbformat": 4,
 "nbformat_minor": 4
}
